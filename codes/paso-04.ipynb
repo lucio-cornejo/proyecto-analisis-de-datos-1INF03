{
 "cells": [
  {
   "cell_type": "markdown",
   "metadata": {},
   "source": [
    "# Paso 4: Data mining"
   ]
  },
  {
   "cell_type": "code",
   "execution_count": 1,
   "metadata": {},
   "outputs": [],
   "source": [
    "import pandas as pd\n",
    "import matplotlib.pyplot as plt\n",
    "import numpy as np\n",
    "import seaborn as sns\n",
    "\n",
    "# Cargamos datos tras paso 2\n",
    "# tracks = pd.read_csv(r'E:\\Documentos\\Github\\proyecto-analisis-de-datos-1INF03\\datos\\tracks.csv')\n",
    "dfunion = pd.read_csv(r'F:\\2022-1\\Analisis de datos\\Tarea Academica\\archive\\tracks.csv')\n",
    "# tracks = pd.read_csv(\"../datos/tracks.csv\")"
   ]
  },
  {
   "cell_type": "code",
   "execution_count": null,
   "metadata": {},
   "outputs": [],
   "source": []
  }
 ],
 "metadata": {
  "kernelspec": {
   "display_name": "Python 3.9.7 ('Jypiter_with_R')",
   "language": "python",
   "name": "python3"
  },
  "language_info": {
   "codemirror_mode": {
    "name": "ipython",
    "version": 3
   },
   "file_extension": ".py",
   "mimetype": "text/x-python",
   "name": "python",
   "nbconvert_exporter": "python",
   "pygments_lexer": "ipython3",
   "version": "3.9.7"
  },
  "orig_nbformat": 4,
  "vscode": {
   "interpreter": {
    "hash": "9111c2c5f1c3db4a5207632b722d3c63800c61cbfeb17e692ecd864c61f9891d"
   }
  }
 },
 "nbformat": 4,
 "nbformat_minor": 2
}
