{
 "cells": [
  {
   "cell_type": "raw",
   "metadata": {},
   "source": [
    "---\n",
    "title: \"Primer avance\"\n",
    "date: \"2022-05-07\"\n",
    "format:\n",
    "  html:\n",
    "    self-contained: true\n",
    "    theme: cerulean\n",
    "    toc: true\n",
    "    toc-depth: 4\n",
    "    code-tools: true\n",
    "    toc-title: \"Tabla de contenido\"\n",
    "---"
   ]
  },
  {
   "cell_type": "markdown",
   "metadata": {},
   "source": [
    "## Integrantes\n",
    "* Lucio Cornejo\n",
    "* Andrea Mejia\n",
    "* Claudia Vivas\n",
    "* Renzo Richle"
   ]
  },
  {
   "cell_type": "markdown",
   "metadata": {},
   "source": [
    "1. [Paso 2](#paso-2)\n",
    "    - [Adquisición de Datos](#adquisicion-de-datos)\n",
    "2. [Paso 3](#paso-3)\n",
    "    - [Entendimiento de los datos](#entendimiento-de-los-datos)\n",
    "    - [Duplicados](#duplicados)\n",
    "    - [Vacios](#vacios)\n",
    "    - [Medidas de resumen para variables numéricas](#medidas-de-resumen-para-variables-numericas)\n",
    "    - [Medidas de resumen para variables categóricas](#medidas-de-resumen-para-variables-categoricas)\n",
    "    - [Tratamiento de datos atípicos](#tratamiento-de-datos-atipicos)\n",
    "        - [Outliers por exceso](#outliers-por-exceso)\n",
    "        - [Outliers por defecto](#outliers-por-defecto)\n",
    "        - [Separar la base en atipicos y no atipicos](#separar-la-base-en-atipicos-y-no-atipicos)\n",
    "    "
   ]
  },
  {
   "cell_type": "markdown",
   "metadata": {},
   "source": [
    "# Paso 2"
   ]
  },
  {
   "cell_type": "markdown",
   "metadata": {},
   "source": [
    "## Adquisicion de Datos"
   ]
  },
  {
   "cell_type": "code",
   "execution_count": 79,
   "metadata": {},
   "outputs": [],
   "source": [
    "import pandas as pd\n",
    "import matplotlib.pyplot as plt\n",
    "import numpy as np\n",
    "import seaborn as sns"
   ]
  },
  {
   "cell_type": "code",
   "execution_count": 80,
   "metadata": {},
   "outputs": [],
   "source": [
    "# Cargamos la base de datos\n",
    "tracks = pd.read_csv(r'F:\\2022-1\\Analisis de datos\\Tarea Academica\\archive\\tracks.csv')"
   ]
  },
  {
   "cell_type": "code",
   "execution_count": 81,
   "metadata": {},
   "outputs": [
    {
     "data": {
      "text/html": [
       "<div>\n",
       "<style scoped>\n",
       "    .dataframe tbody tr th:only-of-type {\n",
       "        vertical-align: middle;\n",
       "    }\n",
       "\n",
       "    .dataframe tbody tr th {\n",
       "        vertical-align: top;\n",
       "    }\n",
       "\n",
       "    .dataframe thead th {\n",
       "        text-align: right;\n",
       "    }\n",
       "</style>\n",
       "<table border=\"1\" class=\"dataframe\">\n",
       "  <thead>\n",
       "    <tr style=\"text-align: right;\">\n",
       "      <th></th>\n",
       "      <th>id</th>\n",
       "      <th>name</th>\n",
       "      <th>popularity</th>\n",
       "      <th>duration_ms</th>\n",
       "      <th>explicit</th>\n",
       "      <th>artists</th>\n",
       "      <th>id_artists</th>\n",
       "      <th>release_date</th>\n",
       "      <th>danceability</th>\n",
       "      <th>energy</th>\n",
       "      <th>key</th>\n",
       "      <th>loudness</th>\n",
       "      <th>mode</th>\n",
       "      <th>speechiness</th>\n",
       "      <th>acousticness</th>\n",
       "      <th>instrumentalness</th>\n",
       "      <th>liveness</th>\n",
       "      <th>valence</th>\n",
       "      <th>tempo</th>\n",
       "      <th>time_signature</th>\n",
       "    </tr>\n",
       "  </thead>\n",
       "  <tbody>\n",
       "    <tr>\n",
       "      <th>0</th>\n",
       "      <td>35iwgR4jXetI318WEWsa1Q</td>\n",
       "      <td>Carve</td>\n",
       "      <td>6</td>\n",
       "      <td>126903</td>\n",
       "      <td>0</td>\n",
       "      <td>['Uli']</td>\n",
       "      <td>['45tIt06XoI0Iio4LBEVpls']</td>\n",
       "      <td>1922-02-22</td>\n",
       "      <td>0.645</td>\n",
       "      <td>0.4450</td>\n",
       "      <td>0</td>\n",
       "      <td>-13.338</td>\n",
       "      <td>1</td>\n",
       "      <td>0.4510</td>\n",
       "      <td>0.674</td>\n",
       "      <td>0.7440</td>\n",
       "      <td>0.151</td>\n",
       "      <td>0.127</td>\n",
       "      <td>104.851</td>\n",
       "      <td>3</td>\n",
       "    </tr>\n",
       "    <tr>\n",
       "      <th>1</th>\n",
       "      <td>021ht4sdgPcrDgSk7JTbKY</td>\n",
       "      <td>Capítulo 2.16 - Banquero Anarquista</td>\n",
       "      <td>0</td>\n",
       "      <td>98200</td>\n",
       "      <td>0</td>\n",
       "      <td>['Fernando Pessoa']</td>\n",
       "      <td>['14jtPCOoNZwquk5wd9DxrY']</td>\n",
       "      <td>1922-06-01</td>\n",
       "      <td>0.695</td>\n",
       "      <td>0.2630</td>\n",
       "      <td>0</td>\n",
       "      <td>-22.136</td>\n",
       "      <td>1</td>\n",
       "      <td>0.9570</td>\n",
       "      <td>0.797</td>\n",
       "      <td>0.0000</td>\n",
       "      <td>0.148</td>\n",
       "      <td>0.655</td>\n",
       "      <td>102.009</td>\n",
       "      <td>1</td>\n",
       "    </tr>\n",
       "    <tr>\n",
       "      <th>2</th>\n",
       "      <td>07A5yehtSnoedViJAZkNnc</td>\n",
       "      <td>Vivo para Quererte - Remasterizado</td>\n",
       "      <td>0</td>\n",
       "      <td>181640</td>\n",
       "      <td>0</td>\n",
       "      <td>['Ignacio Corsini']</td>\n",
       "      <td>['5LiOoJbxVSAMkBS2fUm3X2']</td>\n",
       "      <td>1922-03-21</td>\n",
       "      <td>0.434</td>\n",
       "      <td>0.1770</td>\n",
       "      <td>1</td>\n",
       "      <td>-21.180</td>\n",
       "      <td>1</td>\n",
       "      <td>0.0512</td>\n",
       "      <td>0.994</td>\n",
       "      <td>0.0218</td>\n",
       "      <td>0.212</td>\n",
       "      <td>0.457</td>\n",
       "      <td>130.418</td>\n",
       "      <td>5</td>\n",
       "    </tr>\n",
       "    <tr>\n",
       "      <th>3</th>\n",
       "      <td>08FmqUhxtyLTn6pAh6bk45</td>\n",
       "      <td>El Prisionero - Remasterizado</td>\n",
       "      <td>0</td>\n",
       "      <td>176907</td>\n",
       "      <td>0</td>\n",
       "      <td>['Ignacio Corsini']</td>\n",
       "      <td>['5LiOoJbxVSAMkBS2fUm3X2']</td>\n",
       "      <td>1922-03-21</td>\n",
       "      <td>0.321</td>\n",
       "      <td>0.0946</td>\n",
       "      <td>7</td>\n",
       "      <td>-27.961</td>\n",
       "      <td>1</td>\n",
       "      <td>0.0504</td>\n",
       "      <td>0.995</td>\n",
       "      <td>0.9180</td>\n",
       "      <td>0.104</td>\n",
       "      <td>0.397</td>\n",
       "      <td>169.980</td>\n",
       "      <td>3</td>\n",
       "    </tr>\n",
       "    <tr>\n",
       "      <th>4</th>\n",
       "      <td>08y9GfoqCWfOGsKdwojr5e</td>\n",
       "      <td>Lady of the Evening</td>\n",
       "      <td>0</td>\n",
       "      <td>163080</td>\n",
       "      <td>0</td>\n",
       "      <td>['Dick Haymes']</td>\n",
       "      <td>['3BiJGZsyX9sJchTqcSA7Su']</td>\n",
       "      <td>1922</td>\n",
       "      <td>0.402</td>\n",
       "      <td>0.1580</td>\n",
       "      <td>3</td>\n",
       "      <td>-16.900</td>\n",
       "      <td>0</td>\n",
       "      <td>0.0390</td>\n",
       "      <td>0.989</td>\n",
       "      <td>0.1300</td>\n",
       "      <td>0.311</td>\n",
       "      <td>0.196</td>\n",
       "      <td>103.220</td>\n",
       "      <td>4</td>\n",
       "    </tr>\n",
       "  </tbody>\n",
       "</table>\n",
       "</div>"
      ],
      "text/plain": [
       "                       id                                 name  popularity  \\\n",
       "0  35iwgR4jXetI318WEWsa1Q                                Carve           6   \n",
       "1  021ht4sdgPcrDgSk7JTbKY  Capítulo 2.16 - Banquero Anarquista           0   \n",
       "2  07A5yehtSnoedViJAZkNnc   Vivo para Quererte - Remasterizado           0   \n",
       "3  08FmqUhxtyLTn6pAh6bk45        El Prisionero - Remasterizado           0   \n",
       "4  08y9GfoqCWfOGsKdwojr5e                  Lady of the Evening           0   \n",
       "\n",
       "   duration_ms  explicit              artists                  id_artists  \\\n",
       "0       126903         0              ['Uli']  ['45tIt06XoI0Iio4LBEVpls']   \n",
       "1        98200         0  ['Fernando Pessoa']  ['14jtPCOoNZwquk5wd9DxrY']   \n",
       "2       181640         0  ['Ignacio Corsini']  ['5LiOoJbxVSAMkBS2fUm3X2']   \n",
       "3       176907         0  ['Ignacio Corsini']  ['5LiOoJbxVSAMkBS2fUm3X2']   \n",
       "4       163080         0      ['Dick Haymes']  ['3BiJGZsyX9sJchTqcSA7Su']   \n",
       "\n",
       "  release_date  danceability  energy  key  loudness  mode  speechiness  \\\n",
       "0   1922-02-22         0.645  0.4450    0   -13.338     1       0.4510   \n",
       "1   1922-06-01         0.695  0.2630    0   -22.136     1       0.9570   \n",
       "2   1922-03-21         0.434  0.1770    1   -21.180     1       0.0512   \n",
       "3   1922-03-21         0.321  0.0946    7   -27.961     1       0.0504   \n",
       "4         1922         0.402  0.1580    3   -16.900     0       0.0390   \n",
       "\n",
       "   acousticness  instrumentalness  liveness  valence    tempo  time_signature  \n",
       "0         0.674            0.7440     0.151    0.127  104.851               3  \n",
       "1         0.797            0.0000     0.148    0.655  102.009               1  \n",
       "2         0.994            0.0218     0.212    0.457  130.418               5  \n",
       "3         0.995            0.9180     0.104    0.397  169.980               3  \n",
       "4         0.989            0.1300     0.311    0.196  103.220               4  "
      ]
     },
     "execution_count": 81,
     "metadata": {},
     "output_type": "execute_result"
    }
   ],
   "source": [
    "tracks.head()"
   ]
  },
  {
   "cell_type": "markdown",
   "metadata": {},
   "source": [
    "# Paso 3"
   ]
  },
  {
   "cell_type": "markdown",
   "metadata": {},
   "source": [
    "## Entendimiento de los datos"
   ]
  },
  {
   "cell_type": "code",
   "execution_count": 82,
   "metadata": {},
   "outputs": [
    {
     "name": "stdout",
     "output_type": "stream",
     "text": [
      "La base tiene 586672 filas y 20 columnas\n"
     ]
    }
   ],
   "source": [
    "print('La base tiene',tracks.shape[0], 'filas y', tracks.shape[1], 'columnas')"
   ]
  },
  {
   "cell_type": "code",
   "execution_count": 83,
   "metadata": {},
   "outputs": [
    {
     "name": "stdout",
     "output_type": "stream",
     "text": [
      "Las columnas se la base se llaman: ['id', 'name', 'popularity', 'duration_ms', 'explicit', 'artists', 'id_artists', 'release_date', 'danceability', 'energy', 'key', 'loudness', 'mode', 'speechiness', 'acousticness', 'instrumentalness', 'liveness', 'valence', 'tempo', 'time_signature']\n"
     ]
    }
   ],
   "source": [
    "print('Las columnas se la base se llaman:',tracks.columns.to_list())"
   ]
  },
  {
   "cell_type": "code",
   "execution_count": 84,
   "metadata": {},
   "outputs": [
    {
     "name": "stdout",
     "output_type": "stream",
     "text": [
      "Se tiene los siguientes tipos de datos por columna: \n",
      " id                   object\n",
      "name                 object\n",
      "popularity            int64\n",
      "duration_ms           int64\n",
      "explicit              int64\n",
      "artists              object\n",
      "id_artists           object\n",
      "release_date         object\n",
      "danceability        float64\n",
      "energy              float64\n",
      "key                   int64\n",
      "loudness            float64\n",
      "mode                  int64\n",
      "speechiness         float64\n",
      "acousticness        float64\n",
      "instrumentalness    float64\n",
      "liveness            float64\n",
      "valence             float64\n",
      "tempo               float64\n",
      "time_signature        int64\n",
      "dtype: object\n"
     ]
    }
   ],
   "source": [
    "tracks.dtypes\n",
    "print('Se tiene los siguientes tipos de datos por columna: \\n',tracks.dtypes)"
   ]
  },
  {
   "cell_type": "markdown",
   "metadata": {},
   "source": [
    "# INSERTAR DESCRIPCIÓN DE CADA VARIABLE"
   ]
  },
  {
   "cell_type": "code",
   "execution_count": 85,
   "metadata": {},
   "outputs": [
    {
     "name": "stdout",
     "output_type": "stream",
     "text": [
      "<class 'pandas.core.frame.DataFrame'>\n",
      "RangeIndex: 586672 entries, 0 to 586671\n",
      "Data columns (total 20 columns):\n",
      " #   Column            Non-Null Count   Dtype  \n",
      "---  ------            --------------   -----  \n",
      " 0   id                586672 non-null  object \n",
      " 1   name              586601 non-null  object \n",
      " 2   popularity        586672 non-null  int64  \n",
      " 3   duration_ms       586672 non-null  int64  \n",
      " 4   explicit          586672 non-null  int64  \n",
      " 5   artists           586672 non-null  object \n",
      " 6   id_artists        586672 non-null  object \n",
      " 7   release_date      586672 non-null  object \n",
      " 8   danceability      586672 non-null  float64\n",
      " 9   energy            586672 non-null  float64\n",
      " 10  key               586672 non-null  int64  \n",
      " 11  loudness          586672 non-null  float64\n",
      " 12  mode              586672 non-null  int64  \n",
      " 13  speechiness       586672 non-null  float64\n",
      " 14  acousticness      586672 non-null  float64\n",
      " 15  instrumentalness  586672 non-null  float64\n",
      " 16  liveness          586672 non-null  float64\n",
      " 17  valence           586672 non-null  float64\n",
      " 18  tempo             586672 non-null  float64\n",
      " 19  time_signature    586672 non-null  int64  \n",
      "dtypes: float64(9), int64(6), object(5)\n",
      "memory usage: 89.5+ MB\n"
     ]
    }
   ],
   "source": [
    "# Descripción de los datos\n",
    "tracks.info()"
   ]
  },
  {
   "cell_type": "code",
   "execution_count": 86,
   "metadata": {},
   "outputs": [
    {
     "data": {
      "text/plain": [
       "pandas.core.indexes.base.Index"
      ]
     },
     "execution_count": 86,
     "metadata": {},
     "output_type": "execute_result"
    }
   ],
   "source": [
    "type(tracks.columns)"
   ]
  },
  {
   "cell_type": "code",
   "execution_count": 87,
   "metadata": {},
   "outputs": [],
   "source": [
    "# Convertimos las variables object a variables string \n",
    "\n",
    "tracks[['id', 'name', 'artists', 'id_artists']] = tracks[['id', 'name', 'artists', 'id_artists']].astype('string')"
   ]
  },
  {
   "cell_type": "code",
   "execution_count": 88,
   "metadata": {},
   "outputs": [],
   "source": [
    "# Convertimos la variable 'release_date' a datetime64[ns]\n",
    "tracks['release_date'] = pd.to_datetime(tracks['release_date'], format=\"%Y-%m-%d\")"
   ]
  },
  {
   "cell_type": "markdown",
   "metadata": {},
   "source": [
    "## Duplicados"
   ]
  },
  {
   "cell_type": "code",
   "execution_count": 89,
   "metadata": {},
   "outputs": [
    {
     "name": "stdout",
     "output_type": "stream",
     "text": [
      "(586672, 20)\n",
      "(586672, 20)\n"
     ]
    }
   ],
   "source": [
    "# Omitimos duplicados \n",
    "print(tracks.shape)\n",
    "tracks.drop_duplicates(subset = 'id', inplace=True)\n",
    "print(tracks.shape)"
   ]
  },
  {
   "cell_type": "markdown",
   "metadata": {},
   "source": [
    "Se observa que los datos no tienen filas con valores duplicados, es decir, no existen registros repetidos."
   ]
  },
  {
   "cell_type": "markdown",
   "metadata": {},
   "source": [
    "## Vacios"
   ]
  },
  {
   "cell_type": "code",
   "execution_count": 90,
   "metadata": {},
   "outputs": [
    {
     "data": {
      "text/html": [
       "<div>\n",
       "<style scoped>\n",
       "    .dataframe tbody tr th:only-of-type {\n",
       "        vertical-align: middle;\n",
       "    }\n",
       "\n",
       "    .dataframe tbody tr th {\n",
       "        vertical-align: top;\n",
       "    }\n",
       "\n",
       "    .dataframe thead th {\n",
       "        text-align: right;\n",
       "    }\n",
       "</style>\n",
       "<table border=\"1\" class=\"dataframe\">\n",
       "  <thead>\n",
       "    <tr style=\"text-align: right;\">\n",
       "      <th></th>\n",
       "      <th>vacios</th>\n",
       "      <th>vacios%</th>\n",
       "    </tr>\n",
       "  </thead>\n",
       "  <tbody>\n",
       "    <tr>\n",
       "      <th>id</th>\n",
       "      <td>0</td>\n",
       "      <td>0.0</td>\n",
       "    </tr>\n",
       "    <tr>\n",
       "      <th>valence</th>\n",
       "      <td>0</td>\n",
       "      <td>0.0</td>\n",
       "    </tr>\n",
       "    <tr>\n",
       "      <th>liveness</th>\n",
       "      <td>0</td>\n",
       "      <td>0.0</td>\n",
       "    </tr>\n",
       "    <tr>\n",
       "      <th>instrumentalness</th>\n",
       "      <td>0</td>\n",
       "      <td>0.0</td>\n",
       "    </tr>\n",
       "    <tr>\n",
       "      <th>acousticness</th>\n",
       "      <td>0</td>\n",
       "      <td>0.0</td>\n",
       "    </tr>\n",
       "    <tr>\n",
       "      <th>speechiness</th>\n",
       "      <td>0</td>\n",
       "      <td>0.0</td>\n",
       "    </tr>\n",
       "    <tr>\n",
       "      <th>mode</th>\n",
       "      <td>0</td>\n",
       "      <td>0.0</td>\n",
       "    </tr>\n",
       "    <tr>\n",
       "      <th>loudness</th>\n",
       "      <td>0</td>\n",
       "      <td>0.0</td>\n",
       "    </tr>\n",
       "    <tr>\n",
       "      <th>key</th>\n",
       "      <td>0</td>\n",
       "      <td>0.0</td>\n",
       "    </tr>\n",
       "    <tr>\n",
       "      <th>energy</th>\n",
       "      <td>0</td>\n",
       "      <td>0.0</td>\n",
       "    </tr>\n",
       "    <tr>\n",
       "      <th>danceability</th>\n",
       "      <td>0</td>\n",
       "      <td>0.0</td>\n",
       "    </tr>\n",
       "    <tr>\n",
       "      <th>release_date</th>\n",
       "      <td>0</td>\n",
       "      <td>0.0</td>\n",
       "    </tr>\n",
       "    <tr>\n",
       "      <th>id_artists</th>\n",
       "      <td>0</td>\n",
       "      <td>0.0</td>\n",
       "    </tr>\n",
       "    <tr>\n",
       "      <th>artists</th>\n",
       "      <td>0</td>\n",
       "      <td>0.0</td>\n",
       "    </tr>\n",
       "    <tr>\n",
       "      <th>explicit</th>\n",
       "      <td>0</td>\n",
       "      <td>0.0</td>\n",
       "    </tr>\n",
       "    <tr>\n",
       "      <th>duration_ms</th>\n",
       "      <td>0</td>\n",
       "      <td>0.0</td>\n",
       "    </tr>\n",
       "    <tr>\n",
       "      <th>popularity</th>\n",
       "      <td>0</td>\n",
       "      <td>0.0</td>\n",
       "    </tr>\n",
       "    <tr>\n",
       "      <th>tempo</th>\n",
       "      <td>0</td>\n",
       "      <td>0.0</td>\n",
       "    </tr>\n",
       "    <tr>\n",
       "      <th>time_signature</th>\n",
       "      <td>0</td>\n",
       "      <td>0.0</td>\n",
       "    </tr>\n",
       "    <tr>\n",
       "      <th>name</th>\n",
       "      <td>71</td>\n",
       "      <td>0.0</td>\n",
       "    </tr>\n",
       "  </tbody>\n",
       "</table>\n",
       "</div>"
      ],
      "text/plain": [
       "                  vacios  vacios%\n",
       "id                     0      0.0\n",
       "valence                0      0.0\n",
       "liveness               0      0.0\n",
       "instrumentalness       0      0.0\n",
       "acousticness           0      0.0\n",
       "speechiness            0      0.0\n",
       "mode                   0      0.0\n",
       "loudness               0      0.0\n",
       "key                    0      0.0\n",
       "energy                 0      0.0\n",
       "danceability           0      0.0\n",
       "release_date           0      0.0\n",
       "id_artists             0      0.0\n",
       "artists                0      0.0\n",
       "explicit               0      0.0\n",
       "duration_ms            0      0.0\n",
       "popularity             0      0.0\n",
       "tempo                  0      0.0\n",
       "time_signature         0      0.0\n",
       "name                  71      0.0"
      ]
     },
     "execution_count": 90,
     "metadata": {},
     "output_type": "execute_result"
    }
   ],
   "source": [
    "# Contabilizamos vacíos\n",
    "vacios = pd.DataFrame(tracks.isnull().sum()).sort_values(0,ascending=True)\n",
    "vacios.columns = ['vacios']\n",
    "vacios['vacios%'] = round(vacios['vacios']/tracks.shape[0], 2)*100\n",
    "vacios "
   ]
  },
  {
   "cell_type": "markdown",
   "metadata": {},
   "source": [
    "La columna \"name\" almacena 71 valores vacios."
   ]
  },
  {
   "cell_type": "markdown",
   "metadata": {},
   "source": [
    "# ¿PORQUE EXCLUIMOS LOS VALORES VACIOS? MEJOR AUN NO ELIMINAMOS PARA HACER LAS ESTADISTICAS DESCRIPTICVAS"
   ]
  },
  {
   "cell_type": "code",
   "execution_count": 91,
   "metadata": {},
   "outputs": [],
   "source": [
    "# Excluimos vacíos\n",
    "# print(tracks.shape) \n",
    "# tracks.dropna(inplace=True)\n",
    "# print(tracks.shape)"
   ]
  },
  {
   "cell_type": "markdown",
   "metadata": {},
   "source": [
    "## Medidas de resumen para variables numericas"
   ]
  },
  {
   "cell_type": "code",
   "execution_count": 92,
   "metadata": {},
   "outputs": [],
   "source": [
    "# División de variables numéricas y categóricas\n",
    "dfnum = tracks.select_dtypes(include=['float64', 'int64'])\n",
    "dfcat = tracks.select_dtypes(exclude=['float64', 'int64'])"
   ]
  },
  {
   "cell_type": "code",
   "execution_count": 93,
   "metadata": {},
   "outputs": [
    {
     "name": "stdout",
     "output_type": "stream",
     "text": [
      "Variables categóricas (586672, 5)\n",
      "Variables numéricas (586672, 15)\n"
     ]
    }
   ],
   "source": [
    "print('Variables categóricas', dfcat.shape)\n",
    "print('Variables numéricas', dfnum.shape)"
   ]
  },
  {
   "cell_type": "code",
   "execution_count": 94,
   "metadata": {},
   "outputs": [
    {
     "data": {
      "text/html": [
       "<div>\n",
       "<style scoped>\n",
       "    .dataframe tbody tr th:only-of-type {\n",
       "        vertical-align: middle;\n",
       "    }\n",
       "\n",
       "    .dataframe tbody tr th {\n",
       "        vertical-align: top;\n",
       "    }\n",
       "\n",
       "    .dataframe thead th {\n",
       "        text-align: right;\n",
       "    }\n",
       "</style>\n",
       "<table border=\"1\" class=\"dataframe\">\n",
       "  <thead>\n",
       "    <tr style=\"text-align: right;\">\n",
       "      <th></th>\n",
       "      <th>popularity</th>\n",
       "      <th>duration_ms</th>\n",
       "      <th>explicit</th>\n",
       "      <th>danceability</th>\n",
       "      <th>energy</th>\n",
       "      <th>key</th>\n",
       "      <th>loudness</th>\n",
       "      <th>mode</th>\n",
       "      <th>speechiness</th>\n",
       "      <th>acousticness</th>\n",
       "      <th>instrumentalness</th>\n",
       "      <th>liveness</th>\n",
       "      <th>valence</th>\n",
       "      <th>tempo</th>\n",
       "      <th>time_signature</th>\n",
       "    </tr>\n",
       "  </thead>\n",
       "  <tbody>\n",
       "    <tr>\n",
       "      <th>count</th>\n",
       "      <td>586672.000000</td>\n",
       "      <td>5.866720e+05</td>\n",
       "      <td>586672.000000</td>\n",
       "      <td>586672.000000</td>\n",
       "      <td>586672.000000</td>\n",
       "      <td>586672.000000</td>\n",
       "      <td>586672.000000</td>\n",
       "      <td>586672.000000</td>\n",
       "      <td>586672.000000</td>\n",
       "      <td>586672.000000</td>\n",
       "      <td>586672.000000</td>\n",
       "      <td>586672.000000</td>\n",
       "      <td>586672.000000</td>\n",
       "      <td>586672.000000</td>\n",
       "      <td>586672.000000</td>\n",
       "    </tr>\n",
       "    <tr>\n",
       "      <th>mean</th>\n",
       "      <td>27.570053</td>\n",
       "      <td>2.300512e+05</td>\n",
       "      <td>0.044086</td>\n",
       "      <td>0.563594</td>\n",
       "      <td>0.542036</td>\n",
       "      <td>5.221603</td>\n",
       "      <td>-10.206067</td>\n",
       "      <td>0.658797</td>\n",
       "      <td>0.104864</td>\n",
       "      <td>0.449863</td>\n",
       "      <td>0.113451</td>\n",
       "      <td>0.213935</td>\n",
       "      <td>0.552292</td>\n",
       "      <td>118.464857</td>\n",
       "      <td>3.873382</td>\n",
       "    </tr>\n",
       "    <tr>\n",
       "      <th>std</th>\n",
       "      <td>18.370642</td>\n",
       "      <td>1.265261e+05</td>\n",
       "      <td>0.205286</td>\n",
       "      <td>0.166103</td>\n",
       "      <td>0.251923</td>\n",
       "      <td>3.519423</td>\n",
       "      <td>5.089328</td>\n",
       "      <td>0.474114</td>\n",
       "      <td>0.179893</td>\n",
       "      <td>0.348837</td>\n",
       "      <td>0.266868</td>\n",
       "      <td>0.184326</td>\n",
       "      <td>0.257671</td>\n",
       "      <td>29.764108</td>\n",
       "      <td>0.473162</td>\n",
       "    </tr>\n",
       "    <tr>\n",
       "      <th>min</th>\n",
       "      <td>0.000000</td>\n",
       "      <td>3.344000e+03</td>\n",
       "      <td>0.000000</td>\n",
       "      <td>0.000000</td>\n",
       "      <td>0.000000</td>\n",
       "      <td>0.000000</td>\n",
       "      <td>-60.000000</td>\n",
       "      <td>0.000000</td>\n",
       "      <td>0.000000</td>\n",
       "      <td>0.000000</td>\n",
       "      <td>0.000000</td>\n",
       "      <td>0.000000</td>\n",
       "      <td>0.000000</td>\n",
       "      <td>0.000000</td>\n",
       "      <td>0.000000</td>\n",
       "    </tr>\n",
       "    <tr>\n",
       "      <th>25%</th>\n",
       "      <td>13.000000</td>\n",
       "      <td>1.750930e+05</td>\n",
       "      <td>0.000000</td>\n",
       "      <td>0.453000</td>\n",
       "      <td>0.343000</td>\n",
       "      <td>2.000000</td>\n",
       "      <td>-12.891000</td>\n",
       "      <td>0.000000</td>\n",
       "      <td>0.034000</td>\n",
       "      <td>0.096900</td>\n",
       "      <td>0.000000</td>\n",
       "      <td>0.098300</td>\n",
       "      <td>0.346000</td>\n",
       "      <td>95.600000</td>\n",
       "      <td>4.000000</td>\n",
       "    </tr>\n",
       "    <tr>\n",
       "      <th>50%</th>\n",
       "      <td>27.000000</td>\n",
       "      <td>2.148930e+05</td>\n",
       "      <td>0.000000</td>\n",
       "      <td>0.577000</td>\n",
       "      <td>0.549000</td>\n",
       "      <td>5.000000</td>\n",
       "      <td>-9.243000</td>\n",
       "      <td>1.000000</td>\n",
       "      <td>0.044300</td>\n",
       "      <td>0.422000</td>\n",
       "      <td>0.000024</td>\n",
       "      <td>0.139000</td>\n",
       "      <td>0.564000</td>\n",
       "      <td>117.384000</td>\n",
       "      <td>4.000000</td>\n",
       "    </tr>\n",
       "    <tr>\n",
       "      <th>75%</th>\n",
       "      <td>41.000000</td>\n",
       "      <td>2.638670e+05</td>\n",
       "      <td>0.000000</td>\n",
       "      <td>0.686000</td>\n",
       "      <td>0.748000</td>\n",
       "      <td>8.000000</td>\n",
       "      <td>-6.482000</td>\n",
       "      <td>1.000000</td>\n",
       "      <td>0.076300</td>\n",
       "      <td>0.785000</td>\n",
       "      <td>0.009550</td>\n",
       "      <td>0.278000</td>\n",
       "      <td>0.769000</td>\n",
       "      <td>136.321000</td>\n",
       "      <td>4.000000</td>\n",
       "    </tr>\n",
       "    <tr>\n",
       "      <th>max</th>\n",
       "      <td>100.000000</td>\n",
       "      <td>5.621218e+06</td>\n",
       "      <td>1.000000</td>\n",
       "      <td>0.991000</td>\n",
       "      <td>1.000000</td>\n",
       "      <td>11.000000</td>\n",
       "      <td>5.376000</td>\n",
       "      <td>1.000000</td>\n",
       "      <td>0.971000</td>\n",
       "      <td>0.996000</td>\n",
       "      <td>1.000000</td>\n",
       "      <td>1.000000</td>\n",
       "      <td>1.000000</td>\n",
       "      <td>246.381000</td>\n",
       "      <td>5.000000</td>\n",
       "    </tr>\n",
       "  </tbody>\n",
       "</table>\n",
       "</div>"
      ],
      "text/plain": [
       "          popularity   duration_ms       explicit   danceability  \\\n",
       "count  586672.000000  5.866720e+05  586672.000000  586672.000000   \n",
       "mean       27.570053  2.300512e+05       0.044086       0.563594   \n",
       "std        18.370642  1.265261e+05       0.205286       0.166103   \n",
       "min         0.000000  3.344000e+03       0.000000       0.000000   \n",
       "25%        13.000000  1.750930e+05       0.000000       0.453000   \n",
       "50%        27.000000  2.148930e+05       0.000000       0.577000   \n",
       "75%        41.000000  2.638670e+05       0.000000       0.686000   \n",
       "max       100.000000  5.621218e+06       1.000000       0.991000   \n",
       "\n",
       "              energy            key       loudness           mode  \\\n",
       "count  586672.000000  586672.000000  586672.000000  586672.000000   \n",
       "mean        0.542036       5.221603     -10.206067       0.658797   \n",
       "std         0.251923       3.519423       5.089328       0.474114   \n",
       "min         0.000000       0.000000     -60.000000       0.000000   \n",
       "25%         0.343000       2.000000     -12.891000       0.000000   \n",
       "50%         0.549000       5.000000      -9.243000       1.000000   \n",
       "75%         0.748000       8.000000      -6.482000       1.000000   \n",
       "max         1.000000      11.000000       5.376000       1.000000   \n",
       "\n",
       "         speechiness   acousticness  instrumentalness       liveness  \\\n",
       "count  586672.000000  586672.000000     586672.000000  586672.000000   \n",
       "mean        0.104864       0.449863          0.113451       0.213935   \n",
       "std         0.179893       0.348837          0.266868       0.184326   \n",
       "min         0.000000       0.000000          0.000000       0.000000   \n",
       "25%         0.034000       0.096900          0.000000       0.098300   \n",
       "50%         0.044300       0.422000          0.000024       0.139000   \n",
       "75%         0.076300       0.785000          0.009550       0.278000   \n",
       "max         0.971000       0.996000          1.000000       1.000000   \n",
       "\n",
       "             valence          tempo  time_signature  \n",
       "count  586672.000000  586672.000000   586672.000000  \n",
       "mean        0.552292     118.464857        3.873382  \n",
       "std         0.257671      29.764108        0.473162  \n",
       "min         0.000000       0.000000        0.000000  \n",
       "25%         0.346000      95.600000        4.000000  \n",
       "50%         0.564000     117.384000        4.000000  \n",
       "75%         0.769000     136.321000        4.000000  \n",
       "max         1.000000     246.381000        5.000000  "
      ]
     },
     "execution_count": 94,
     "metadata": {},
     "output_type": "execute_result"
    }
   ],
   "source": [
    "# estadisticas desciptivas para las variables numéricas\n",
    "dfnum.describe()"
   ]
  },
  {
   "cell_type": "markdown",
   "metadata": {},
   "source": [
    "# COMENTAR LAS CARACTERISTICAS DE CADA VARIABLE"
   ]
  },
  {
   "cell_type": "code",
   "execution_count": 102,
   "metadata": {},
   "outputs": [
    {
     "name": "stderr",
     "output_type": "stream",
     "text": [
      "c:\\Users\\c3318\\anaconda3\\envs\\Jypiter_with_R\\lib\\site-packages\\seaborn\\distributions.py:2619: FutureWarning: `distplot` is a deprecated function and will be removed in a future version. Please adapt your code to use either `displot` (a figure-level function with similar flexibility) or `histplot` (an axes-level function for histograms).\n",
      "  warnings.warn(msg, FutureWarning)\n"
     ]
    },
    {
     "data": {
      "image/png": "[encoded data removed]",
      "text/plain": [
       "<Figure size 432x288 with 1 Axes>"
      ]
     },
     "metadata": {},
     "output_type": "display_data"
    },
    {
     "name": "stderr",
     "output_type": "stream",
     "text": [
      "c:\\Users\\c3318\\anaconda3\\envs\\Jypiter_with_R\\lib\\site-packages\\seaborn\\distributions.py:2619: FutureWarning: `distplot` is a deprecated function and will be removed in a future version. Please adapt your code to use either `displot` (a figure-level function with similar flexibility) or `histplot` (an axes-level function for histograms).\n",
      "  warnings.warn(msg, FutureWarning)\n"
     ]
    },
    {
     "data": {
      "image/png": "[encoded data removed]",
      "text/plain": [
       "<Figure size 432x288 with 1 Axes>"
      ]
     },
     "metadata": {},
     "output_type": "display_data"
    },
    {
     "name": "stderr",
     "output_type": "stream",
     "text": [
      "c:\\Users\\c3318\\anaconda3\\envs\\Jypiter_with_R\\lib\\site-packages\\seaborn\\distributions.py:2619: FutureWarning: `distplot` is a deprecated function and will be removed in a future version. Please adapt your code to use either `displot` (a figure-level function with similar flexibility) or `histplot` (an axes-level function for histograms).\n",
      "  warnings.warn(msg, FutureWarning)\n"
     ]
    },
    {
     "data": {
      "image/png": "[encoded data removed]",
      "text/plain": [
       "<Figure size 432x288 with 1 Axes>"
      ]
     },
     "metadata": {},
     "output_type": "display_data"
    },
    {
     "name": "stderr",
     "output_type": "stream",
     "text": [
      "c:\\Users\\c3318\\anaconda3\\envs\\Jypiter_with_R\\lib\\site-packages\\seaborn\\distributions.py:2619: FutureWarning: `distplot` is a deprecated function and will be removed in a future version. Please adapt your code to use either `displot` (a figure-level function with similar flexibility) or `histplot` (an axes-level function for histograms).\n",
      "  warnings.warn(msg, FutureWarning)\n"
     ]
    },
    {
     "data": {
      "image/png": "[encoded data removed]",
      "text/plain": [
       "<Figure size 432x288 with 1 Axes>"
      ]
     },
     "metadata": {},
     "output_type": "display_data"
    },
    {
     "name": "stderr",
     "output_type": "stream",
     "text": [
      "c:\\Users\\c3318\\anaconda3\\envs\\Jypiter_with_R\\lib\\site-packages\\seaborn\\distributions.py:2619: FutureWarning: `distplot` is a deprecated function and will be removed in a future version. Please adapt your code to use either `displot` (a figure-level function with similar flexibility) or `histplot` (an axes-level function for histograms).\n",
      "  warnings.warn(msg, FutureWarning)\n"
     ]
    },
    {
     "data": {
      "image/png": "[encoded data removed]",
      "text/plain": [
       "<Figure size 432x288 with 1 Axes>"
      ]
     },
     "metadata": {},
     "output_type": "display_data"
    },
    {
     "name": "stderr",
     "output_type": "stream",
     "text": [
      "c:\\Users\\c3318\\anaconda3\\envs\\Jypiter_with_R\\lib\\site-packages\\seaborn\\distributions.py:2619: FutureWarning: `distplot` is a deprecated function and will be removed in a future version. Please adapt your code to use either `displot` (a figure-level function with similar flexibility) or `histplot` (an axes-level function for histograms).\n",
      "  warnings.warn(msg, FutureWarning)\n"
     ]
    },
    {
     "data": {
      "image/png": "[encoded data removed]",
      "text/plain": [
       "<Figure size 432x288 with 1 Axes>"
      ]
     },
     "metadata": {},
     "output_type": "display_data"
    },
    {
     "name": "stderr",
     "output_type": "stream",
     "text": [
      "c:\\Users\\c3318\\anaconda3\\envs\\Jypiter_with_R\\lib\\site-packages\\seaborn\\distributions.py:2619: FutureWarning: `distplot` is a deprecated function and will be removed in a future version. Please adapt your code to use either `displot` (a figure-level function with similar flexibility) or `histplot` (an axes-level function for histograms).\n",
      "  warnings.warn(msg, FutureWarning)\n"
     ]
    },
    {
     "data": {
      "image/png": "[encoded data removed]",
      "text/plain": [
       "<Figure size 432x288 with 1 Axes>"
      ]
     },
     "metadata": {},
     "output_type": "display_data"
    },
    {
     "name": "stderr",
     "output_type": "stream",
     "text": [
      "c:\\Users\\c3318\\anaconda3\\envs\\Jypiter_with_R\\lib\\site-packages\\seaborn\\distributions.py:2619: FutureWarning: `distplot` is a deprecated function and will be removed in a future version. Please adapt your code to use either `displot` (a figure-level function with similar flexibility) or `histplot` (an axes-level function for histograms).\n",
      "  warnings.warn(msg, FutureWarning)\n"
     ]
    },
    {
     "data": {
      "image/png": "[encoded data removed]",
      "text/plain": [
       "<Figure size 432x288 with 1 Axes>"
      ]
     },
     "metadata": {},
     "output_type": "display_data"
    },
    {
     "name": "stderr",
     "output_type": "stream",
     "text": [
      "c:\\Users\\c3318\\anaconda3\\envs\\Jypiter_with_R\\lib\\site-packages\\seaborn\\distributions.py:2619: FutureWarning: `distplot` is a deprecated function and will be removed in a future version. Please adapt your code to use either `displot` (a figure-level function with similar flexibility) or `histplot` (an axes-level function for histograms).\n",
      "  warnings.warn(msg, FutureWarning)\n"
     ]
    },
    {
     "data": {
      "image/png": "[encoded data removed]",
      "text/plain": [
       "<Figure size 432x288 with 1 Axes>"
      ]
     },
     "metadata": {},
     "output_type": "display_data"
    },
    {
     "name": "stderr",
     "output_type": "stream",
     "text": [
      "c:\\Users\\c3318\\anaconda3\\envs\\Jypiter_with_R\\lib\\site-packages\\seaborn\\distributions.py:2619: FutureWarning: `distplot` is a deprecated function and will be removed in a future version. Please adapt your code to use either `displot` (a figure-level function with similar flexibility) or `histplot` (an axes-level function for histograms).\n",
      "  warnings.warn(msg, FutureWarning)\n"
     ]
    },
    {
     "data": {
      "image/png": "[encoded data removed]",
      "text/plain": [
       "<Figure size 432x288 with 1 Axes>"
      ]
     },
     "metadata": {},
     "output_type": "display_data"
    },
    {
     "name": "stderr",
     "output_type": "stream",
     "text": [
      "c:\\Users\\c3318\\anaconda3\\envs\\Jypiter_with_R\\lib\\site-packages\\seaborn\\distributions.py:2619: FutureWarning: `distplot` is a deprecated function and will be removed in a future version. Please adapt your code to use either `displot` (a figure-level function with similar flexibility) or `histplot` (an axes-level function for histograms).\n",
      "  warnings.warn(msg, FutureWarning)\n"
     ]
    },
    {
     "data": {
      "image/png": "[encoded data removed]",
      "text/plain": [
       "<Figure size 432x288 with 1 Axes>"
      ]
     },
     "metadata": {},
     "output_type": "display_data"
    },
    {
     "name": "stderr",
     "output_type": "stream",
     "text": [
      "c:\\Users\\c3318\\anaconda3\\envs\\Jypiter_with_R\\lib\\site-packages\\seaborn\\distributions.py:2619: FutureWarning: `distplot` is a deprecated function and will be removed in a future version. Please adapt your code to use either `displot` (a figure-level function with similar flexibility) or `histplot` (an axes-level function for histograms).\n",
      "  warnings.warn(msg, FutureWarning)\n"
     ]
    },
    {
     "data": {
      "image/png": "[encoded data removed]",
      "text/plain": [
       "<Figure size 432x288 with 1 Axes>"
      ]
     },
     "metadata": {},
     "output_type": "display_data"
    },
    {
     "name": "stderr",
     "output_type": "stream",
     "text": [
      "c:\\Users\\c3318\\anaconda3\\envs\\Jypiter_with_R\\lib\\site-packages\\seaborn\\distributions.py:2619: FutureWarning: `distplot` is a deprecated function and will be removed in a future version. Please adapt your code to use either `displot` (a figure-level function with similar flexibility) or `histplot` (an axes-level function for histograms).\n",
      "  warnings.warn(msg, FutureWarning)\n"
     ]
    },
    {
     "data": {
      "image/png": "[encoded data removed]",
      "text/plain": [
       "<Figure size 432x288 with 1 Axes>"
      ]
     },
     "metadata": {},
     "output_type": "display_data"
    },
    {
     "name": "stderr",
     "output_type": "stream",
     "text": [
      "c:\\Users\\c3318\\anaconda3\\envs\\Jypiter_with_R\\lib\\site-packages\\seaborn\\distributions.py:2619: FutureWarning: `distplot` is a deprecated function and will be removed in a future version. Please adapt your code to use either `displot` (a figure-level function with similar flexibility) or `histplot` (an axes-level function for histograms).\n",
      "  warnings.warn(msg, FutureWarning)\n"
     ]
    },
    {
     "data": {
      "image/png": "[encoded data removed]",
      "text/plain": [
       "<Figure size 432x288 with 1 Axes>"
      ]
     },
     "metadata": {},
     "output_type": "display_data"
    },
    {
     "name": "stderr",
     "output_type": "stream",
     "text": [
      "c:\\Users\\c3318\\anaconda3\\envs\\Jypiter_with_R\\lib\\site-packages\\seaborn\\distributions.py:2619: FutureWarning: `distplot` is a deprecated function and will be removed in a future version. Please adapt your code to use either `displot` (a figure-level function with similar flexibility) or `histplot` (an axes-level function for histograms).\n",
      "  warnings.warn(msg, FutureWarning)\n"
     ]
    },
    {
     "data": {
      "image/png": "[encoded data removed]",
      "text/plain": [
       "<Figure size 432x288 with 1 Axes>"
      ]
     },
     "metadata": {},
     "output_type": "display_data"
    }
   ],
   "source": [
    "# Visualización de los datos numéricos\n",
    "columnas_numericas = dfnum.columns.tolist()\n",
    "sns.set(style=\"darkgrid\")\n",
    "for col in columnas_numericas:\n",
    "    sns.distplot(dfnum[col])\n",
    "    plt.title(col)\n",
    "    plt.show()"
   ]
  },
  {
   "cell_type": "markdown",
   "metadata": {},
   "source": [
    "# ¿TIENE SENTIDO INCLUIR A LA VARIABLE KEY, MODE Y TIME_SIGNATURE DENTRO DE LAS VARIABLES NUMERICAS O DEBERÍAN SER VARIABLES CATEGORICAS?"
   ]
  },
  {
   "cell_type": "markdown",
   "metadata": {},
   "source": [
    "## Medidas de resumen para variables categoricas"
   ]
  },
  {
   "cell_type": "code",
   "execution_count": 103,
   "metadata": {},
   "outputs": [
    {
     "name": "stderr",
     "output_type": "stream",
     "text": [
      "C:\\Users\\c3318\\AppData\\Local\\Temp/ipykernel_25192/115831347.py:1: FutureWarning: Treating datetime data as categorical rather than numeric in `.describe` is deprecated and will be removed in a future version of pandas. Specify `datetime_is_numeric=True` to silence this warning and adopt the future behavior now.\n",
      "  dfcat.describe()\n"
     ]
    },
    {
     "data": {
      "text/html": [
       "<div>\n",
       "<style scoped>\n",
       "    .dataframe tbody tr th:only-of-type {\n",
       "        vertical-align: middle;\n",
       "    }\n",
       "\n",
       "    .dataframe tbody tr th {\n",
       "        vertical-align: top;\n",
       "    }\n",
       "\n",
       "    .dataframe thead th {\n",
       "        text-align: right;\n",
       "    }\n",
       "</style>\n",
       "<table border=\"1\" class=\"dataframe\">\n",
       "  <thead>\n",
       "    <tr style=\"text-align: right;\">\n",
       "      <th></th>\n",
       "      <th>id</th>\n",
       "      <th>name</th>\n",
       "      <th>artists</th>\n",
       "      <th>id_artists</th>\n",
       "      <th>release_date</th>\n",
       "    </tr>\n",
       "  </thead>\n",
       "  <tbody>\n",
       "    <tr>\n",
       "      <th>count</th>\n",
       "      <td>586672</td>\n",
       "      <td>586601</td>\n",
       "      <td>586672</td>\n",
       "      <td>586672</td>\n",
       "      <td>586672</td>\n",
       "    </tr>\n",
       "    <tr>\n",
       "      <th>unique</th>\n",
       "      <td>586672</td>\n",
       "      <td>446474</td>\n",
       "      <td>114030</td>\n",
       "      <td>115062</td>\n",
       "      <td>19363</td>\n",
       "    </tr>\n",
       "    <tr>\n",
       "      <th>top</th>\n",
       "      <td>35iwgR4jXetI318WEWsa1Q</td>\n",
       "      <td>Summertime</td>\n",
       "      <td>['Die drei ???']</td>\n",
       "      <td>['3meJIgRw7YleJrmbpbJK6S']</td>\n",
       "      <td>1997-01-01 00:00:00</td>\n",
       "    </tr>\n",
       "    <tr>\n",
       "      <th>freq</th>\n",
       "      <td>1</td>\n",
       "      <td>101</td>\n",
       "      <td>3856</td>\n",
       "      <td>3856</td>\n",
       "      <td>5703</td>\n",
       "    </tr>\n",
       "    <tr>\n",
       "      <th>first</th>\n",
       "      <td>NaN</td>\n",
       "      <td>NaN</td>\n",
       "      <td>NaN</td>\n",
       "      <td>NaN</td>\n",
       "      <td>1900-01-01 00:00:00</td>\n",
       "    </tr>\n",
       "    <tr>\n",
       "      <th>last</th>\n",
       "      <td>NaN</td>\n",
       "      <td>NaN</td>\n",
       "      <td>NaN</td>\n",
       "      <td>NaN</td>\n",
       "      <td>2021-04-16 00:00:00</td>\n",
       "    </tr>\n",
       "  </tbody>\n",
       "</table>\n",
       "</div>"
      ],
      "text/plain": [
       "                            id        name           artists  \\\n",
       "count                   586672      586601            586672   \n",
       "unique                  586672      446474            114030   \n",
       "top     35iwgR4jXetI318WEWsa1Q  Summertime  ['Die drei ???']   \n",
       "freq                         1         101              3856   \n",
       "first                      NaN         NaN               NaN   \n",
       "last                       NaN         NaN               NaN   \n",
       "\n",
       "                        id_artists         release_date  \n",
       "count                       586672               586672  \n",
       "unique                      115062                19363  \n",
       "top     ['3meJIgRw7YleJrmbpbJK6S']  1997-01-01 00:00:00  \n",
       "freq                          3856                 5703  \n",
       "first                          NaN  1900-01-01 00:00:00  \n",
       "last                           NaN  2021-04-16 00:00:00  "
      ]
     },
     "execution_count": 103,
     "metadata": {},
     "output_type": "execute_result"
    }
   ],
   "source": [
    "dfcat.describe()"
   ]
  },
  {
   "cell_type": "code",
   "execution_count": 105,
   "metadata": {},
   "outputs": [
    {
     "data": {
      "text/plain": [
       "Index(['id', 'name', 'artists', 'id_artists', 'release_date'], dtype='object')"
      ]
     },
     "execution_count": 105,
     "metadata": {},
     "output_type": "execute_result"
    }
   ],
   "source": [
    "dfcat.columns"
   ]
  },
  {
   "cell_type": "markdown",
   "metadata": {},
   "source": [
    "# 'id' y 'id_artists' son variables que no son relevantes para el analisis "
   ]
  },
  {
   "cell_type": "code",
   "execution_count": 112,
   "metadata": {},
   "outputs": [
    {
     "data": {
      "text/html": [
       "<div>\n",
       "<style scoped>\n",
       "    .dataframe tbody tr th:only-of-type {\n",
       "        vertical-align: middle;\n",
       "    }\n",
       "\n",
       "    .dataframe tbody tr th {\n",
       "        vertical-align: top;\n",
       "    }\n",
       "\n",
       "    .dataframe thead th {\n",
       "        text-align: right;\n",
       "    }\n",
       "</style>\n",
       "<table border=\"1\" class=\"dataframe\">\n",
       "  <thead>\n",
       "    <tr style=\"text-align: right;\">\n",
       "      <th></th>\n",
       "      <th>name</th>\n",
       "      <th>artists</th>\n",
       "    </tr>\n",
       "  </thead>\n",
       "  <tbody>\n",
       "    <tr>\n",
       "      <th>0</th>\n",
       "      <td>Summertime</td>\n",
       "      <td>['Die drei ???']</td>\n",
       "    </tr>\n",
       "  </tbody>\n",
       "</table>\n",
       "</div>"
      ],
      "text/plain": [
       "         name           artists\n",
       "0  Summertime  ['Die drei ???']"
      ]
     },
     "execution_count": 112,
     "metadata": {},
     "output_type": "execute_result"
    }
   ],
   "source": [
    "dfcat[['name', 'artists']].mode()"
   ]
  },
  {
   "cell_type": "code",
   "execution_count": 116,
   "metadata": {},
   "outputs": [
    {
     "data": {
      "text/html": [
       "<div>\n",
       "<style scoped>\n",
       "    .dataframe tbody tr th:only-of-type {\n",
       "        vertical-align: middle;\n",
       "    }\n",
       "\n",
       "    .dataframe tbody tr th {\n",
       "        vertical-align: top;\n",
       "    }\n",
       "\n",
       "    .dataframe thead th {\n",
       "        text-align: right;\n",
       "    }\n",
       "</style>\n",
       "<table border=\"1\" class=\"dataframe\">\n",
       "  <thead>\n",
       "    <tr style=\"text-align: right;\">\n",
       "      <th></th>\n",
       "      <th>release_date</th>\n",
       "    </tr>\n",
       "  </thead>\n",
       "  <tbody>\n",
       "    <tr>\n",
       "      <th>0</th>\n",
       "      <td>1997-01-01</td>\n",
       "    </tr>\n",
       "  </tbody>\n",
       "</table>\n",
       "</div>"
      ],
      "text/plain": [
       "  release_date\n",
       "0   1997-01-01"
      ]
     },
     "execution_count": 116,
     "metadata": {},
     "output_type": "execute_result"
    }
   ],
   "source": [
    "dfcat[['release_date']].mode()"
   ]
  },
  {
   "cell_type": "code",
   "execution_count": 115,
   "metadata": {},
   "outputs": [
    {
     "data": {
      "text/plain": [
       "Timestamp('1992-07-31 00:00:00')"
      ]
     },
     "execution_count": 115,
     "metadata": {},
     "output_type": "execute_result"
    }
   ],
   "source": [
    "dfcat['release_date'].median()"
   ]
  },
  {
   "cell_type": "markdown",
   "metadata": {},
   "source": [
    "# DESCRIBIR ESTOS ESTADISTICOS, NO TENEMOS UN GRAFICO QUE PUEDE DESCRIBIR ESTAS VARIABLES"
   ]
  },
  {
   "cell_type": "markdown",
   "metadata": {},
   "source": [
    "## **Tratamiento de Datos Atípicos y Estadísticas Descriptivas**"
   ]
  },
  {
   "cell_type": "markdown",
   "metadata": {},
   "source": [
    "### Tratamiento de datos atípicos"
   ]
  },
  {
   "cell_type": "markdown",
   "metadata": {},
   "source": [
    "#### Datos numéricos"
   ]
  },
  {
   "cell_type": "code",
   "execution_count": 93,
   "metadata": {},
   "outputs": [
    {
     "data": {
      "text/html": [
       "<div>\n",
       "<style scoped>\n",
       "    .dataframe tbody tr th:only-of-type {\n",
       "        vertical-align: middle;\n",
       "    }\n",
       "\n",
       "    .dataframe tbody tr th {\n",
       "        vertical-align: top;\n",
       "    }\n",
       "\n",
       "    .dataframe thead th {\n",
       "        text-align: right;\n",
       "    }\n",
       "</style>\n",
       "<table border=\"1\" class=\"dataframe\">\n",
       "  <thead>\n",
       "    <tr style=\"text-align: right;\">\n",
       "      <th></th>\n",
       "      <th>popularity</th>\n",
       "      <th>duration_ms</th>\n",
       "      <th>explicit</th>\n",
       "      <th>danceability</th>\n",
       "      <th>energy</th>\n",
       "      <th>key</th>\n",
       "      <th>loudness</th>\n",
       "      <th>mode</th>\n",
       "      <th>speechiness</th>\n",
       "      <th>acousticness</th>\n",
       "      <th>instrumentalness</th>\n",
       "      <th>liveness</th>\n",
       "      <th>valence</th>\n",
       "      <th>tempo</th>\n",
       "      <th>time_signature</th>\n",
       "    </tr>\n",
       "  </thead>\n",
       "  <tbody>\n",
       "    <tr>\n",
       "      <th>count</th>\n",
       "      <td>586601.000000</td>\n",
       "      <td>5.866010e+05</td>\n",
       "      <td>586601.000000</td>\n",
       "      <td>586601.000000</td>\n",
       "      <td>586601.000000</td>\n",
       "      <td>586601.000000</td>\n",
       "      <td>586601.000000</td>\n",
       "      <td>586601.000000</td>\n",
       "      <td>586601.000000</td>\n",
       "      <td>586601.000000</td>\n",
       "      <td>586601.000000</td>\n",
       "      <td>586601.000000</td>\n",
       "      <td>586601.000000</td>\n",
       "      <td>586601.000000</td>\n",
       "      <td>586601.000000</td>\n",
       "    </tr>\n",
       "    <tr>\n",
       "      <th>mean</th>\n",
       "      <td>27.573212</td>\n",
       "      <td>2.300549e+05</td>\n",
       "      <td>0.044091</td>\n",
       "      <td>0.563612</td>\n",
       "      <td>0.542071</td>\n",
       "      <td>5.221594</td>\n",
       "      <td>-10.205789</td>\n",
       "      <td>0.658797</td>\n",
       "      <td>0.104870</td>\n",
       "      <td>0.449803</td>\n",
       "      <td>0.113425</td>\n",
       "      <td>0.213933</td>\n",
       "      <td>0.552306</td>\n",
       "      <td>118.467930</td>\n",
       "      <td>3.873410</td>\n",
       "    </tr>\n",
       "    <tr>\n",
       "      <th>std</th>\n",
       "      <td>18.369417</td>\n",
       "      <td>1.265328e+05</td>\n",
       "      <td>0.205298</td>\n",
       "      <td>0.166101</td>\n",
       "      <td>0.251910</td>\n",
       "      <td>3.519420</td>\n",
       "      <td>5.089422</td>\n",
       "      <td>0.474114</td>\n",
       "      <td>0.179902</td>\n",
       "      <td>0.348812</td>\n",
       "      <td>0.266843</td>\n",
       "      <td>0.184328</td>\n",
       "      <td>0.257673</td>\n",
       "      <td>29.762942</td>\n",
       "      <td>0.473112</td>\n",
       "    </tr>\n",
       "    <tr>\n",
       "      <th>min</th>\n",
       "      <td>0.000000</td>\n",
       "      <td>3.344000e+03</td>\n",
       "      <td>0.000000</td>\n",
       "      <td>0.000000</td>\n",
       "      <td>0.000000</td>\n",
       "      <td>0.000000</td>\n",
       "      <td>-60.000000</td>\n",
       "      <td>0.000000</td>\n",
       "      <td>0.000000</td>\n",
       "      <td>0.000000</td>\n",
       "      <td>0.000000</td>\n",
       "      <td>0.000000</td>\n",
       "      <td>0.000000</td>\n",
       "      <td>0.000000</td>\n",
       "      <td>0.000000</td>\n",
       "    </tr>\n",
       "    <tr>\n",
       "      <th>0%</th>\n",
       "      <td>0.000000</td>\n",
       "      <td>3.344000e+03</td>\n",
       "      <td>0.000000</td>\n",
       "      <td>0.000000</td>\n",
       "      <td>0.000000</td>\n",
       "      <td>0.000000</td>\n",
       "      <td>-60.000000</td>\n",
       "      <td>0.000000</td>\n",
       "      <td>0.000000</td>\n",
       "      <td>0.000000</td>\n",
       "      <td>0.000000</td>\n",
       "      <td>0.000000</td>\n",
       "      <td>0.000000</td>\n",
       "      <td>0.000000</td>\n",
       "      <td>0.000000</td>\n",
       "    </tr>\n",
       "    <tr>\n",
       "      <th>5%</th>\n",
       "      <td>0.000000</td>\n",
       "      <td>9.730700e+04</td>\n",
       "      <td>0.000000</td>\n",
       "      <td>0.267000</td>\n",
       "      <td>0.120000</td>\n",
       "      <td>0.000000</td>\n",
       "      <td>-19.843000</td>\n",
       "      <td>0.000000</td>\n",
       "      <td>0.027600</td>\n",
       "      <td>0.001770</td>\n",
       "      <td>0.000000</td>\n",
       "      <td>0.058900</td>\n",
       "      <td>0.121000</td>\n",
       "      <td>75.929000</td>\n",
       "      <td>3.000000</td>\n",
       "    </tr>\n",
       "    <tr>\n",
       "      <th>10%</th>\n",
       "      <td>2.000000</td>\n",
       "      <td>1.342190e+05</td>\n",
       "      <td>0.000000</td>\n",
       "      <td>0.334000</td>\n",
       "      <td>0.190000</td>\n",
       "      <td>0.000000</td>\n",
       "      <td>-16.893000</td>\n",
       "      <td>0.000000</td>\n",
       "      <td>0.029400</td>\n",
       "      <td>0.010500</td>\n",
       "      <td>0.000000</td>\n",
       "      <td>0.072500</td>\n",
       "      <td>0.188000</td>\n",
       "      <td>81.288000</td>\n",
       "      <td>3.000000</td>\n",
       "    </tr>\n",
       "    <tr>\n",
       "      <th>15%</th>\n",
       "      <td>5.000000</td>\n",
       "      <td>1.522990e+05</td>\n",
       "      <td>0.000000</td>\n",
       "      <td>0.382000</td>\n",
       "      <td>0.248000</td>\n",
       "      <td>1.000000</td>\n",
       "      <td>-15.137000</td>\n",
       "      <td>0.000000</td>\n",
       "      <td>0.030900</td>\n",
       "      <td>0.028700</td>\n",
       "      <td>0.000000</td>\n",
       "      <td>0.082500</td>\n",
       "      <td>0.244000</td>\n",
       "      <td>86.856000</td>\n",
       "      <td>4.000000</td>\n",
       "    </tr>\n",
       "    <tr>\n",
       "      <th>20%</th>\n",
       "      <td>9.000000</td>\n",
       "      <td>1.649200e+05</td>\n",
       "      <td>0.000000</td>\n",
       "      <td>0.420000</td>\n",
       "      <td>0.298000</td>\n",
       "      <td>2.000000</td>\n",
       "      <td>-13.886000</td>\n",
       "      <td>0.000000</td>\n",
       "      <td>0.032400</td>\n",
       "      <td>0.057700</td>\n",
       "      <td>0.000000</td>\n",
       "      <td>0.090900</td>\n",
       "      <td>0.299000</td>\n",
       "      <td>91.775000</td>\n",
       "      <td>4.000000</td>\n",
       "    </tr>\n",
       "    <tr>\n",
       "      <th>25%</th>\n",
       "      <td>13.000000</td>\n",
       "      <td>1.750830e+05</td>\n",
       "      <td>0.000000</td>\n",
       "      <td>0.453000</td>\n",
       "      <td>0.343000</td>\n",
       "      <td>2.000000</td>\n",
       "      <td>-12.891000</td>\n",
       "      <td>0.000000</td>\n",
       "      <td>0.034000</td>\n",
       "      <td>0.096900</td>\n",
       "      <td>0.000000</td>\n",
       "      <td>0.098300</td>\n",
       "      <td>0.346000</td>\n",
       "      <td>95.606000</td>\n",
       "      <td>4.000000</td>\n",
       "    </tr>\n",
       "    <tr>\n",
       "      <th>30%</th>\n",
       "      <td>16.000000</td>\n",
       "      <td>1.836130e+05</td>\n",
       "      <td>0.000000</td>\n",
       "      <td>0.482000</td>\n",
       "      <td>0.390000</td>\n",
       "      <td>2.000000</td>\n",
       "      <td>-12.039000</td>\n",
       "      <td>0.000000</td>\n",
       "      <td>0.035600</td>\n",
       "      <td>0.146000</td>\n",
       "      <td>0.000000</td>\n",
       "      <td>0.105000</td>\n",
       "      <td>0.389000</td>\n",
       "      <td>99.783000</td>\n",
       "      <td>4.000000</td>\n",
       "    </tr>\n",
       "    <tr>\n",
       "      <th>35%</th>\n",
       "      <td>19.000000</td>\n",
       "      <td>1.915330e+05</td>\n",
       "      <td>0.000000</td>\n",
       "      <td>0.508000</td>\n",
       "      <td>0.432000</td>\n",
       "      <td>4.000000</td>\n",
       "      <td>-11.267000</td>\n",
       "      <td>1.000000</td>\n",
       "      <td>0.037400</td>\n",
       "      <td>0.204000</td>\n",
       "      <td>0.000001</td>\n",
       "      <td>0.111000</td>\n",
       "      <td>0.435000</td>\n",
       "      <td>104.005000</td>\n",
       "      <td>4.000000</td>\n",
       "    </tr>\n",
       "    <tr>\n",
       "      <th>40%</th>\n",
       "      <td>22.000000</td>\n",
       "      <td>1.991470e+05</td>\n",
       "      <td>0.000000</td>\n",
       "      <td>0.532000</td>\n",
       "      <td>0.472000</td>\n",
       "      <td>4.000000</td>\n",
       "      <td>-10.551000</td>\n",
       "      <td>1.000000</td>\n",
       "      <td>0.039400</td>\n",
       "      <td>0.271000</td>\n",
       "      <td>0.000003</td>\n",
       "      <td>0.117000</td>\n",
       "      <td>0.481000</td>\n",
       "      <td>108.462000</td>\n",
       "      <td>4.000000</td>\n",
       "    </tr>\n",
       "    <tr>\n",
       "      <th>45%</th>\n",
       "      <td>24.000000</td>\n",
       "      <td>2.069730e+05</td>\n",
       "      <td>0.000000</td>\n",
       "      <td>0.555000</td>\n",
       "      <td>0.511000</td>\n",
       "      <td>5.000000</td>\n",
       "      <td>-9.881000</td>\n",
       "      <td>1.000000</td>\n",
       "      <td>0.041600</td>\n",
       "      <td>0.345000</td>\n",
       "      <td>0.000009</td>\n",
       "      <td>0.127000</td>\n",
       "      <td>0.524000</td>\n",
       "      <td>112.970000</td>\n",
       "      <td>4.000000</td>\n",
       "    </tr>\n",
       "    <tr>\n",
       "      <th>50%</th>\n",
       "      <td>27.000000</td>\n",
       "      <td>2.149070e+05</td>\n",
       "      <td>0.000000</td>\n",
       "      <td>0.577000</td>\n",
       "      <td>0.549000</td>\n",
       "      <td>5.000000</td>\n",
       "      <td>-9.242000</td>\n",
       "      <td>1.000000</td>\n",
       "      <td>0.044300</td>\n",
       "      <td>0.422000</td>\n",
       "      <td>0.000024</td>\n",
       "      <td>0.139000</td>\n",
       "      <td>0.564000</td>\n",
       "      <td>117.387000</td>\n",
       "      <td>4.000000</td>\n",
       "    </tr>\n",
       "    <tr>\n",
       "      <th>55%</th>\n",
       "      <td>30.000000</td>\n",
       "      <td>2.233470e+05</td>\n",
       "      <td>0.000000</td>\n",
       "      <td>0.599000</td>\n",
       "      <td>0.588000</td>\n",
       "      <td>6.000000</td>\n",
       "      <td>-8.644000</td>\n",
       "      <td>1.000000</td>\n",
       "      <td>0.047500</td>\n",
       "      <td>0.501000</td>\n",
       "      <td>0.000071</td>\n",
       "      <td>0.154000</td>\n",
       "      <td>0.605000</td>\n",
       "      <td>121.032000</td>\n",
       "      <td>4.000000</td>\n",
       "    </tr>\n",
       "    <tr>\n",
       "      <th>60%</th>\n",
       "      <td>33.000000</td>\n",
       "      <td>2.321870e+05</td>\n",
       "      <td>0.000000</td>\n",
       "      <td>0.620000</td>\n",
       "      <td>0.629000</td>\n",
       "      <td>7.000000</td>\n",
       "      <td>-8.073000</td>\n",
       "      <td>1.000000</td>\n",
       "      <td>0.051600</td>\n",
       "      <td>0.579000</td>\n",
       "      <td>0.000218</td>\n",
       "      <td>0.175000</td>\n",
       "      <td>0.647000</td>\n",
       "      <td>125.011000</td>\n",
       "      <td>4.000000</td>\n",
       "    </tr>\n",
       "    <tr>\n",
       "      <th>65%</th>\n",
       "      <td>35.000000</td>\n",
       "      <td>2.416130e+05</td>\n",
       "      <td>0.000000</td>\n",
       "      <td>0.641000</td>\n",
       "      <td>0.669000</td>\n",
       "      <td>7.000000</td>\n",
       "      <td>-7.526000</td>\n",
       "      <td>1.000000</td>\n",
       "      <td>0.057200</td>\n",
       "      <td>0.654000</td>\n",
       "      <td>0.000700</td>\n",
       "      <td>0.202000</td>\n",
       "      <td>0.687000</td>\n",
       "      <td>128.323000</td>\n",
       "      <td>4.000000</td>\n",
       "    </tr>\n",
       "    <tr>\n",
       "      <th>70%</th>\n",
       "      <td>38.000000</td>\n",
       "      <td>2.521230e+05</td>\n",
       "      <td>0.000000</td>\n",
       "      <td>0.663000</td>\n",
       "      <td>0.708000</td>\n",
       "      <td>7.000000</td>\n",
       "      <td>-7.002000</td>\n",
       "      <td>1.000000</td>\n",
       "      <td>0.064800</td>\n",
       "      <td>0.722000</td>\n",
       "      <td>0.002430</td>\n",
       "      <td>0.237000</td>\n",
       "      <td>0.727000</td>\n",
       "      <td>132.013000</td>\n",
       "      <td>4.000000</td>\n",
       "    </tr>\n",
       "    <tr>\n",
       "      <th>75%</th>\n",
       "      <td>41.000000</td>\n",
       "      <td>2.638670e+05</td>\n",
       "      <td>0.000000</td>\n",
       "      <td>0.686000</td>\n",
       "      <td>0.748000</td>\n",
       "      <td>8.000000</td>\n",
       "      <td>-6.481000</td>\n",
       "      <td>1.000000</td>\n",
       "      <td>0.076300</td>\n",
       "      <td>0.784000</td>\n",
       "      <td>0.009550</td>\n",
       "      <td>0.278000</td>\n",
       "      <td>0.769000</td>\n",
       "      <td>136.324000</td>\n",
       "      <td>4.000000</td>\n",
       "    </tr>\n",
       "    <tr>\n",
       "      <th>80%</th>\n",
       "      <td>44.000000</td>\n",
       "      <td>2.779430e+05</td>\n",
       "      <td>0.000000</td>\n",
       "      <td>0.709000</td>\n",
       "      <td>0.793000</td>\n",
       "      <td>9.000000</td>\n",
       "      <td>-5.950000</td>\n",
       "      <td>1.000000</td>\n",
       "      <td>0.095200</td>\n",
       "      <td>0.843000</td>\n",
       "      <td>0.043400</td>\n",
       "      <td>0.318000</td>\n",
       "      <td>0.811000</td>\n",
       "      <td>141.058000</td>\n",
       "      <td>4.000000</td>\n",
       "    </tr>\n",
       "    <tr>\n",
       "      <th>85%</th>\n",
       "      <td>48.000000</td>\n",
       "      <td>2.959570e+05</td>\n",
       "      <td>0.000000</td>\n",
       "      <td>0.735000</td>\n",
       "      <td>0.837000</td>\n",
       "      <td>9.000000</td>\n",
       "      <td>-5.385000</td>\n",
       "      <td>1.000000</td>\n",
       "      <td>0.131000</td>\n",
       "      <td>0.899000</td>\n",
       "      <td>0.215000</td>\n",
       "      <td>0.355000</td>\n",
       "      <td>0.854000</td>\n",
       "      <td>148.156000</td>\n",
       "      <td>4.000000</td>\n",
       "    </tr>\n",
       "    <tr>\n",
       "      <th>90%</th>\n",
       "      <td>52.000000</td>\n",
       "      <td>3.236000e+05</td>\n",
       "      <td>0.000000</td>\n",
       "      <td>0.769000</td>\n",
       "      <td>0.881000</td>\n",
       "      <td>10.000000</td>\n",
       "      <td>-4.751000</td>\n",
       "      <td>1.000000</td>\n",
       "      <td>0.212000</td>\n",
       "      <td>0.950000</td>\n",
       "      <td>0.649000</td>\n",
       "      <td>0.428000</td>\n",
       "      <td>0.899000</td>\n",
       "      <td>160.188000</td>\n",
       "      <td>4.000000</td>\n",
       "    </tr>\n",
       "    <tr>\n",
       "      <th>95%</th>\n",
       "      <td>59.000000</td>\n",
       "      <td>3.823600e+05</td>\n",
       "      <td>0.000000</td>\n",
       "      <td>0.815000</td>\n",
       "      <td>0.931000</td>\n",
       "      <td>11.000000</td>\n",
       "      <td>-3.910000</td>\n",
       "      <td>1.000000</td>\n",
       "      <td>0.422000</td>\n",
       "      <td>0.983000</td>\n",
       "      <td>0.874000</td>\n",
       "      <td>0.653000</td>\n",
       "      <td>0.946000</td>\n",
       "      <td>174.009000</td>\n",
       "      <td>4.000000</td>\n",
       "    </tr>\n",
       "    <tr>\n",
       "      <th>max</th>\n",
       "      <td>100.000000</td>\n",
       "      <td>5.621218e+06</td>\n",
       "      <td>1.000000</td>\n",
       "      <td>0.991000</td>\n",
       "      <td>1.000000</td>\n",
       "      <td>11.000000</td>\n",
       "      <td>5.376000</td>\n",
       "      <td>1.000000</td>\n",
       "      <td>0.971000</td>\n",
       "      <td>0.996000</td>\n",
       "      <td>1.000000</td>\n",
       "      <td>1.000000</td>\n",
       "      <td>1.000000</td>\n",
       "      <td>246.381000</td>\n",
       "      <td>5.000000</td>\n",
       "    </tr>\n",
       "  </tbody>\n",
       "</table>\n",
       "</div>"
      ],
      "text/plain": [
       "          popularity   duration_ms       explicit   danceability  \\\n",
       "count  586601.000000  5.866010e+05  586601.000000  586601.000000   \n",
       "mean       27.573212  2.300549e+05       0.044091       0.563612   \n",
       "std        18.369417  1.265328e+05       0.205298       0.166101   \n",
       "min         0.000000  3.344000e+03       0.000000       0.000000   \n",
       "0%          0.000000  3.344000e+03       0.000000       0.000000   \n",
       "5%          0.000000  9.730700e+04       0.000000       0.267000   \n",
       "10%         2.000000  1.342190e+05       0.000000       0.334000   \n",
       "15%         5.000000  1.522990e+05       0.000000       0.382000   \n",
       "20%         9.000000  1.649200e+05       0.000000       0.420000   \n",
       "25%        13.000000  1.750830e+05       0.000000       0.453000   \n",
       "30%        16.000000  1.836130e+05       0.000000       0.482000   \n",
       "35%        19.000000  1.915330e+05       0.000000       0.508000   \n",
       "40%        22.000000  1.991470e+05       0.000000       0.532000   \n",
       "45%        24.000000  2.069730e+05       0.000000       0.555000   \n",
       "50%        27.000000  2.149070e+05       0.000000       0.577000   \n",
       "55%        30.000000  2.233470e+05       0.000000       0.599000   \n",
       "60%        33.000000  2.321870e+05       0.000000       0.620000   \n",
       "65%        35.000000  2.416130e+05       0.000000       0.641000   \n",
       "70%        38.000000  2.521230e+05       0.000000       0.663000   \n",
       "75%        41.000000  2.638670e+05       0.000000       0.686000   \n",
       "80%        44.000000  2.779430e+05       0.000000       0.709000   \n",
       "85%        48.000000  2.959570e+05       0.000000       0.735000   \n",
       "90%        52.000000  3.236000e+05       0.000000       0.769000   \n",
       "95%        59.000000  3.823600e+05       0.000000       0.815000   \n",
       "max       100.000000  5.621218e+06       1.000000       0.991000   \n",
       "\n",
       "              energy            key       loudness           mode  \\\n",
       "count  586601.000000  586601.000000  586601.000000  586601.000000   \n",
       "mean        0.542071       5.221594     -10.205789       0.658797   \n",
       "std         0.251910       3.519420       5.089422       0.474114   \n",
       "min         0.000000       0.000000     -60.000000       0.000000   \n",
       "0%          0.000000       0.000000     -60.000000       0.000000   \n",
       "5%          0.120000       0.000000     -19.843000       0.000000   \n",
       "10%         0.190000       0.000000     -16.893000       0.000000   \n",
       "15%         0.248000       1.000000     -15.137000       0.000000   \n",
       "20%         0.298000       2.000000     -13.886000       0.000000   \n",
       "25%         0.343000       2.000000     -12.891000       0.000000   \n",
       "30%         0.390000       2.000000     -12.039000       0.000000   \n",
       "35%         0.432000       4.000000     -11.267000       1.000000   \n",
       "40%         0.472000       4.000000     -10.551000       1.000000   \n",
       "45%         0.511000       5.000000      -9.881000       1.000000   \n",
       "50%         0.549000       5.000000      -9.242000       1.000000   \n",
       "55%         0.588000       6.000000      -8.644000       1.000000   \n",
       "60%         0.629000       7.000000      -8.073000       1.000000   \n",
       "65%         0.669000       7.000000      -7.526000       1.000000   \n",
       "70%         0.708000       7.000000      -7.002000       1.000000   \n",
       "75%         0.748000       8.000000      -6.481000       1.000000   \n",
       "80%         0.793000       9.000000      -5.950000       1.000000   \n",
       "85%         0.837000       9.000000      -5.385000       1.000000   \n",
       "90%         0.881000      10.000000      -4.751000       1.000000   \n",
       "95%         0.931000      11.000000      -3.910000       1.000000   \n",
       "max         1.000000      11.000000       5.376000       1.000000   \n",
       "\n",
       "         speechiness   acousticness  instrumentalness       liveness  \\\n",
       "count  586601.000000  586601.000000     586601.000000  586601.000000   \n",
       "mean        0.104870       0.449803          0.113425       0.213933   \n",
       "std         0.179902       0.348812          0.266843       0.184328   \n",
       "min         0.000000       0.000000          0.000000       0.000000   \n",
       "0%          0.000000       0.000000          0.000000       0.000000   \n",
       "5%          0.027600       0.001770          0.000000       0.058900   \n",
       "10%         0.029400       0.010500          0.000000       0.072500   \n",
       "15%         0.030900       0.028700          0.000000       0.082500   \n",
       "20%         0.032400       0.057700          0.000000       0.090900   \n",
       "25%         0.034000       0.096900          0.000000       0.098300   \n",
       "30%         0.035600       0.146000          0.000000       0.105000   \n",
       "35%         0.037400       0.204000          0.000001       0.111000   \n",
       "40%         0.039400       0.271000          0.000003       0.117000   \n",
       "45%         0.041600       0.345000          0.000009       0.127000   \n",
       "50%         0.044300       0.422000          0.000024       0.139000   \n",
       "55%         0.047500       0.501000          0.000071       0.154000   \n",
       "60%         0.051600       0.579000          0.000218       0.175000   \n",
       "65%         0.057200       0.654000          0.000700       0.202000   \n",
       "70%         0.064800       0.722000          0.002430       0.237000   \n",
       "75%         0.076300       0.784000          0.009550       0.278000   \n",
       "80%         0.095200       0.843000          0.043400       0.318000   \n",
       "85%         0.131000       0.899000          0.215000       0.355000   \n",
       "90%         0.212000       0.950000          0.649000       0.428000   \n",
       "95%         0.422000       0.983000          0.874000       0.653000   \n",
       "max         0.971000       0.996000          1.000000       1.000000   \n",
       "\n",
       "             valence          tempo  time_signature  \n",
       "count  586601.000000  586601.000000   586601.000000  \n",
       "mean        0.552306     118.467930        3.873410  \n",
       "std         0.257673      29.762942        0.473112  \n",
       "min         0.000000       0.000000        0.000000  \n",
       "0%          0.000000       0.000000        0.000000  \n",
       "5%          0.121000      75.929000        3.000000  \n",
       "10%         0.188000      81.288000        3.000000  \n",
       "15%         0.244000      86.856000        4.000000  \n",
       "20%         0.299000      91.775000        4.000000  \n",
       "25%         0.346000      95.606000        4.000000  \n",
       "30%         0.389000      99.783000        4.000000  \n",
       "35%         0.435000     104.005000        4.000000  \n",
       "40%         0.481000     108.462000        4.000000  \n",
       "45%         0.524000     112.970000        4.000000  \n",
       "50%         0.564000     117.387000        4.000000  \n",
       "55%         0.605000     121.032000        4.000000  \n",
       "60%         0.647000     125.011000        4.000000  \n",
       "65%         0.687000     128.323000        4.000000  \n",
       "70%         0.727000     132.013000        4.000000  \n",
       "75%         0.769000     136.324000        4.000000  \n",
       "80%         0.811000     141.058000        4.000000  \n",
       "85%         0.854000     148.156000        4.000000  \n",
       "90%         0.899000     160.188000        4.000000  \n",
       "95%         0.946000     174.009000        4.000000  \n",
       "max         1.000000     246.381000        5.000000  "
      ]
     },
     "execution_count": 93,
     "metadata": {},
     "output_type": "execute_result"
    }
   ],
   "source": [
    "descriptivesMax_num = dfnum.describe(percentiles = list(np.arange(0, 1, 0.05)))\n",
    "descriptivesMax_num"
   ]
  },
  {
   "cell_type": "code",
   "execution_count": 97,
   "metadata": {},
   "outputs": [
    {
     "data": {
      "text/plain": [
       "popularity           True\n",
       "duration_ms          True\n",
       "explicit             True\n",
       "danceability        False\n",
       "energy              False\n",
       "key                 False\n",
       "loudness             True\n",
       "mode                False\n",
       "speechiness          True\n",
       "acousticness        False\n",
       "instrumentalness     True\n",
       "liveness             True\n",
       "valence             False\n",
       "tempo                True\n",
       "time_signature       True\n",
       "dtype: bool"
      ]
     },
     "execution_count": 97,
     "metadata": {},
     "output_type": "execute_result"
    }
   ],
   "source": [
    "# Variables que tienen valores atípicos superiores\n",
    "descriptivesMax_num.loc['max'] > (descriptivesMax_num.loc['75%'] + (1.5* (descriptivesMax_num.loc['75%']-descriptivesMax_num.loc['25%']) ) )"
   ]
  },
  {
   "cell_type": "code",
   "execution_count": 98,
   "metadata": {},
   "outputs": [
    {
     "data": {
      "text/html": [
       "<div>\n",
       "<style scoped>\n",
       "    .dataframe tbody tr th:only-of-type {\n",
       "        vertical-align: middle;\n",
       "    }\n",
       "\n",
       "    .dataframe tbody tr th {\n",
       "        vertical-align: top;\n",
       "    }\n",
       "\n",
       "    .dataframe thead th {\n",
       "        text-align: right;\n",
       "    }\n",
       "</style>\n",
       "<table border=\"1\" class=\"dataframe\">\n",
       "  <thead>\n",
       "    <tr style=\"text-align: right;\">\n",
       "      <th></th>\n",
       "      <th>popularity</th>\n",
       "      <th>duration_ms</th>\n",
       "      <th>explicit</th>\n",
       "      <th>danceability</th>\n",
       "      <th>energy</th>\n",
       "      <th>key</th>\n",
       "      <th>loudness</th>\n",
       "      <th>mode</th>\n",
       "      <th>speechiness</th>\n",
       "      <th>acousticness</th>\n",
       "      <th>instrumentalness</th>\n",
       "      <th>liveness</th>\n",
       "      <th>valence</th>\n",
       "      <th>tempo</th>\n",
       "      <th>time_signature</th>\n",
       "    </tr>\n",
       "  </thead>\n",
       "  <tbody>\n",
       "    <tr>\n",
       "      <th>count</th>\n",
       "      <td>586601.000000</td>\n",
       "      <td>5.866010e+05</td>\n",
       "      <td>586601.000000</td>\n",
       "      <td>586601.000000</td>\n",
       "      <td>586601.000000</td>\n",
       "      <td>586601.000000</td>\n",
       "      <td>586601.000000</td>\n",
       "      <td>586601.000000</td>\n",
       "      <td>586601.000000</td>\n",
       "      <td>586601.000000</td>\n",
       "      <td>586601.000000</td>\n",
       "      <td>586601.000000</td>\n",
       "      <td>586601.000000</td>\n",
       "      <td>586601.000000</td>\n",
       "      <td>586601.000000</td>\n",
       "    </tr>\n",
       "    <tr>\n",
       "      <th>mean</th>\n",
       "      <td>27.573212</td>\n",
       "      <td>2.300549e+05</td>\n",
       "      <td>0.044091</td>\n",
       "      <td>0.563612</td>\n",
       "      <td>0.542071</td>\n",
       "      <td>5.221594</td>\n",
       "      <td>-10.205789</td>\n",
       "      <td>0.658797</td>\n",
       "      <td>0.104870</td>\n",
       "      <td>0.449803</td>\n",
       "      <td>0.113425</td>\n",
       "      <td>0.213933</td>\n",
       "      <td>0.552306</td>\n",
       "      <td>118.467930</td>\n",
       "      <td>3.873410</td>\n",
       "    </tr>\n",
       "    <tr>\n",
       "      <th>std</th>\n",
       "      <td>18.369417</td>\n",
       "      <td>1.265328e+05</td>\n",
       "      <td>0.205298</td>\n",
       "      <td>0.166101</td>\n",
       "      <td>0.251910</td>\n",
       "      <td>3.519420</td>\n",
       "      <td>5.089422</td>\n",
       "      <td>0.474114</td>\n",
       "      <td>0.179902</td>\n",
       "      <td>0.348812</td>\n",
       "      <td>0.266843</td>\n",
       "      <td>0.184328</td>\n",
       "      <td>0.257673</td>\n",
       "      <td>29.762942</td>\n",
       "      <td>0.473112</td>\n",
       "    </tr>\n",
       "    <tr>\n",
       "      <th>min</th>\n",
       "      <td>0.000000</td>\n",
       "      <td>3.344000e+03</td>\n",
       "      <td>0.000000</td>\n",
       "      <td>0.000000</td>\n",
       "      <td>0.000000</td>\n",
       "      <td>0.000000</td>\n",
       "      <td>-60.000000</td>\n",
       "      <td>0.000000</td>\n",
       "      <td>0.000000</td>\n",
       "      <td>0.000000</td>\n",
       "      <td>0.000000</td>\n",
       "      <td>0.000000</td>\n",
       "      <td>0.000000</td>\n",
       "      <td>0.000000</td>\n",
       "      <td>0.000000</td>\n",
       "    </tr>\n",
       "    <tr>\n",
       "      <th>0%</th>\n",
       "      <td>0.000000</td>\n",
       "      <td>3.344000e+03</td>\n",
       "      <td>0.000000</td>\n",
       "      <td>0.000000</td>\n",
       "      <td>0.000000</td>\n",
       "      <td>0.000000</td>\n",
       "      <td>-60.000000</td>\n",
       "      <td>0.000000</td>\n",
       "      <td>0.000000</td>\n",
       "      <td>0.000000</td>\n",
       "      <td>0.000000</td>\n",
       "      <td>0.000000</td>\n",
       "      <td>0.000000</td>\n",
       "      <td>0.000000</td>\n",
       "      <td>0.000000</td>\n",
       "    </tr>\n",
       "    <tr>\n",
       "      <th>5%</th>\n",
       "      <td>0.000000</td>\n",
       "      <td>9.730700e+04</td>\n",
       "      <td>0.000000</td>\n",
       "      <td>0.267000</td>\n",
       "      <td>0.120000</td>\n",
       "      <td>0.000000</td>\n",
       "      <td>-19.843000</td>\n",
       "      <td>0.000000</td>\n",
       "      <td>0.027600</td>\n",
       "      <td>0.001770</td>\n",
       "      <td>0.000000</td>\n",
       "      <td>0.058900</td>\n",
       "      <td>0.121000</td>\n",
       "      <td>75.929000</td>\n",
       "      <td>3.000000</td>\n",
       "    </tr>\n",
       "    <tr>\n",
       "      <th>10%</th>\n",
       "      <td>2.000000</td>\n",
       "      <td>1.342190e+05</td>\n",
       "      <td>0.000000</td>\n",
       "      <td>0.334000</td>\n",
       "      <td>0.190000</td>\n",
       "      <td>0.000000</td>\n",
       "      <td>-16.893000</td>\n",
       "      <td>0.000000</td>\n",
       "      <td>0.029400</td>\n",
       "      <td>0.010500</td>\n",
       "      <td>0.000000</td>\n",
       "      <td>0.072500</td>\n",
       "      <td>0.188000</td>\n",
       "      <td>81.288000</td>\n",
       "      <td>3.000000</td>\n",
       "    </tr>\n",
       "    <tr>\n",
       "      <th>15%</th>\n",
       "      <td>5.000000</td>\n",
       "      <td>1.522990e+05</td>\n",
       "      <td>0.000000</td>\n",
       "      <td>0.382000</td>\n",
       "      <td>0.248000</td>\n",
       "      <td>1.000000</td>\n",
       "      <td>-15.137000</td>\n",
       "      <td>0.000000</td>\n",
       "      <td>0.030900</td>\n",
       "      <td>0.028700</td>\n",
       "      <td>0.000000</td>\n",
       "      <td>0.082500</td>\n",
       "      <td>0.244000</td>\n",
       "      <td>86.856000</td>\n",
       "      <td>4.000000</td>\n",
       "    </tr>\n",
       "    <tr>\n",
       "      <th>20%</th>\n",
       "      <td>9.000000</td>\n",
       "      <td>1.649200e+05</td>\n",
       "      <td>0.000000</td>\n",
       "      <td>0.420000</td>\n",
       "      <td>0.298000</td>\n",
       "      <td>2.000000</td>\n",
       "      <td>-13.886000</td>\n",
       "      <td>0.000000</td>\n",
       "      <td>0.032400</td>\n",
       "      <td>0.057700</td>\n",
       "      <td>0.000000</td>\n",
       "      <td>0.090900</td>\n",
       "      <td>0.299000</td>\n",
       "      <td>91.775000</td>\n",
       "      <td>4.000000</td>\n",
       "    </tr>\n",
       "    <tr>\n",
       "      <th>25%</th>\n",
       "      <td>13.000000</td>\n",
       "      <td>1.750830e+05</td>\n",
       "      <td>0.000000</td>\n",
       "      <td>0.453000</td>\n",
       "      <td>0.343000</td>\n",
       "      <td>2.000000</td>\n",
       "      <td>-12.891000</td>\n",
       "      <td>0.000000</td>\n",
       "      <td>0.034000</td>\n",
       "      <td>0.096900</td>\n",
       "      <td>0.000000</td>\n",
       "      <td>0.098300</td>\n",
       "      <td>0.346000</td>\n",
       "      <td>95.606000</td>\n",
       "      <td>4.000000</td>\n",
       "    </tr>\n",
       "    <tr>\n",
       "      <th>30%</th>\n",
       "      <td>16.000000</td>\n",
       "      <td>1.836130e+05</td>\n",
       "      <td>0.000000</td>\n",
       "      <td>0.482000</td>\n",
       "      <td>0.390000</td>\n",
       "      <td>2.000000</td>\n",
       "      <td>-12.039000</td>\n",
       "      <td>0.000000</td>\n",
       "      <td>0.035600</td>\n",
       "      <td>0.146000</td>\n",
       "      <td>0.000000</td>\n",
       "      <td>0.105000</td>\n",
       "      <td>0.389000</td>\n",
       "      <td>99.783000</td>\n",
       "      <td>4.000000</td>\n",
       "    </tr>\n",
       "    <tr>\n",
       "      <th>35%</th>\n",
       "      <td>19.000000</td>\n",
       "      <td>1.915330e+05</td>\n",
       "      <td>0.000000</td>\n",
       "      <td>0.508000</td>\n",
       "      <td>0.432000</td>\n",
       "      <td>4.000000</td>\n",
       "      <td>-11.267000</td>\n",
       "      <td>1.000000</td>\n",
       "      <td>0.037400</td>\n",
       "      <td>0.204000</td>\n",
       "      <td>0.000001</td>\n",
       "      <td>0.111000</td>\n",
       "      <td>0.435000</td>\n",
       "      <td>104.005000</td>\n",
       "      <td>4.000000</td>\n",
       "    </tr>\n",
       "    <tr>\n",
       "      <th>40%</th>\n",
       "      <td>22.000000</td>\n",
       "      <td>1.991470e+05</td>\n",
       "      <td>0.000000</td>\n",
       "      <td>0.532000</td>\n",
       "      <td>0.472000</td>\n",
       "      <td>4.000000</td>\n",
       "      <td>-10.551000</td>\n",
       "      <td>1.000000</td>\n",
       "      <td>0.039400</td>\n",
       "      <td>0.271000</td>\n",
       "      <td>0.000003</td>\n",
       "      <td>0.117000</td>\n",
       "      <td>0.481000</td>\n",
       "      <td>108.462000</td>\n",
       "      <td>4.000000</td>\n",
       "    </tr>\n",
       "    <tr>\n",
       "      <th>45%</th>\n",
       "      <td>24.000000</td>\n",
       "      <td>2.069730e+05</td>\n",
       "      <td>0.000000</td>\n",
       "      <td>0.555000</td>\n",
       "      <td>0.511000</td>\n",
       "      <td>5.000000</td>\n",
       "      <td>-9.881000</td>\n",
       "      <td>1.000000</td>\n",
       "      <td>0.041600</td>\n",
       "      <td>0.345000</td>\n",
       "      <td>0.000009</td>\n",
       "      <td>0.127000</td>\n",
       "      <td>0.524000</td>\n",
       "      <td>112.970000</td>\n",
       "      <td>4.000000</td>\n",
       "    </tr>\n",
       "    <tr>\n",
       "      <th>50%</th>\n",
       "      <td>27.000000</td>\n",
       "      <td>2.149070e+05</td>\n",
       "      <td>0.000000</td>\n",
       "      <td>0.577000</td>\n",
       "      <td>0.549000</td>\n",
       "      <td>5.000000</td>\n",
       "      <td>-9.242000</td>\n",
       "      <td>1.000000</td>\n",
       "      <td>0.044300</td>\n",
       "      <td>0.422000</td>\n",
       "      <td>0.000024</td>\n",
       "      <td>0.139000</td>\n",
       "      <td>0.564000</td>\n",
       "      <td>117.387000</td>\n",
       "      <td>4.000000</td>\n",
       "    </tr>\n",
       "    <tr>\n",
       "      <th>55%</th>\n",
       "      <td>30.000000</td>\n",
       "      <td>2.233470e+05</td>\n",
       "      <td>0.000000</td>\n",
       "      <td>0.599000</td>\n",
       "      <td>0.588000</td>\n",
       "      <td>6.000000</td>\n",
       "      <td>-8.644000</td>\n",
       "      <td>1.000000</td>\n",
       "      <td>0.047500</td>\n",
       "      <td>0.501000</td>\n",
       "      <td>0.000071</td>\n",
       "      <td>0.154000</td>\n",
       "      <td>0.605000</td>\n",
       "      <td>121.032000</td>\n",
       "      <td>4.000000</td>\n",
       "    </tr>\n",
       "    <tr>\n",
       "      <th>60%</th>\n",
       "      <td>33.000000</td>\n",
       "      <td>2.321870e+05</td>\n",
       "      <td>0.000000</td>\n",
       "      <td>0.620000</td>\n",
       "      <td>0.629000</td>\n",
       "      <td>7.000000</td>\n",
       "      <td>-8.073000</td>\n",
       "      <td>1.000000</td>\n",
       "      <td>0.051600</td>\n",
       "      <td>0.579000</td>\n",
       "      <td>0.000218</td>\n",
       "      <td>0.175000</td>\n",
       "      <td>0.647000</td>\n",
       "      <td>125.011000</td>\n",
       "      <td>4.000000</td>\n",
       "    </tr>\n",
       "    <tr>\n",
       "      <th>65%</th>\n",
       "      <td>35.000000</td>\n",
       "      <td>2.416130e+05</td>\n",
       "      <td>0.000000</td>\n",
       "      <td>0.641000</td>\n",
       "      <td>0.669000</td>\n",
       "      <td>7.000000</td>\n",
       "      <td>-7.526000</td>\n",
       "      <td>1.000000</td>\n",
       "      <td>0.057200</td>\n",
       "      <td>0.654000</td>\n",
       "      <td>0.000700</td>\n",
       "      <td>0.202000</td>\n",
       "      <td>0.687000</td>\n",
       "      <td>128.323000</td>\n",
       "      <td>4.000000</td>\n",
       "    </tr>\n",
       "    <tr>\n",
       "      <th>70%</th>\n",
       "      <td>38.000000</td>\n",
       "      <td>2.521230e+05</td>\n",
       "      <td>0.000000</td>\n",
       "      <td>0.663000</td>\n",
       "      <td>0.708000</td>\n",
       "      <td>7.000000</td>\n",
       "      <td>-7.002000</td>\n",
       "      <td>1.000000</td>\n",
       "      <td>0.064800</td>\n",
       "      <td>0.722000</td>\n",
       "      <td>0.002430</td>\n",
       "      <td>0.237000</td>\n",
       "      <td>0.727000</td>\n",
       "      <td>132.013000</td>\n",
       "      <td>4.000000</td>\n",
       "    </tr>\n",
       "    <tr>\n",
       "      <th>75%</th>\n",
       "      <td>41.000000</td>\n",
       "      <td>2.638670e+05</td>\n",
       "      <td>0.000000</td>\n",
       "      <td>0.686000</td>\n",
       "      <td>0.748000</td>\n",
       "      <td>8.000000</td>\n",
       "      <td>-6.481000</td>\n",
       "      <td>1.000000</td>\n",
       "      <td>0.076300</td>\n",
       "      <td>0.784000</td>\n",
       "      <td>0.009550</td>\n",
       "      <td>0.278000</td>\n",
       "      <td>0.769000</td>\n",
       "      <td>136.324000</td>\n",
       "      <td>4.000000</td>\n",
       "    </tr>\n",
       "    <tr>\n",
       "      <th>80%</th>\n",
       "      <td>44.000000</td>\n",
       "      <td>2.779430e+05</td>\n",
       "      <td>0.000000</td>\n",
       "      <td>0.709000</td>\n",
       "      <td>0.793000</td>\n",
       "      <td>9.000000</td>\n",
       "      <td>-5.950000</td>\n",
       "      <td>1.000000</td>\n",
       "      <td>0.095200</td>\n",
       "      <td>0.843000</td>\n",
       "      <td>0.043400</td>\n",
       "      <td>0.318000</td>\n",
       "      <td>0.811000</td>\n",
       "      <td>141.058000</td>\n",
       "      <td>4.000000</td>\n",
       "    </tr>\n",
       "    <tr>\n",
       "      <th>85%</th>\n",
       "      <td>48.000000</td>\n",
       "      <td>2.959570e+05</td>\n",
       "      <td>0.000000</td>\n",
       "      <td>0.735000</td>\n",
       "      <td>0.837000</td>\n",
       "      <td>9.000000</td>\n",
       "      <td>-5.385000</td>\n",
       "      <td>1.000000</td>\n",
       "      <td>0.131000</td>\n",
       "      <td>0.899000</td>\n",
       "      <td>0.215000</td>\n",
       "      <td>0.355000</td>\n",
       "      <td>0.854000</td>\n",
       "      <td>148.156000</td>\n",
       "      <td>4.000000</td>\n",
       "    </tr>\n",
       "    <tr>\n",
       "      <th>90%</th>\n",
       "      <td>52.000000</td>\n",
       "      <td>3.236000e+05</td>\n",
       "      <td>0.000000</td>\n",
       "      <td>0.769000</td>\n",
       "      <td>0.881000</td>\n",
       "      <td>10.000000</td>\n",
       "      <td>-4.751000</td>\n",
       "      <td>1.000000</td>\n",
       "      <td>0.212000</td>\n",
       "      <td>0.950000</td>\n",
       "      <td>0.649000</td>\n",
       "      <td>0.428000</td>\n",
       "      <td>0.899000</td>\n",
       "      <td>160.188000</td>\n",
       "      <td>4.000000</td>\n",
       "    </tr>\n",
       "    <tr>\n",
       "      <th>95%</th>\n",
       "      <td>59.000000</td>\n",
       "      <td>3.823600e+05</td>\n",
       "      <td>0.000000</td>\n",
       "      <td>0.815000</td>\n",
       "      <td>0.931000</td>\n",
       "      <td>11.000000</td>\n",
       "      <td>-3.910000</td>\n",
       "      <td>1.000000</td>\n",
       "      <td>0.422000</td>\n",
       "      <td>0.983000</td>\n",
       "      <td>0.874000</td>\n",
       "      <td>0.653000</td>\n",
       "      <td>0.946000</td>\n",
       "      <td>174.009000</td>\n",
       "      <td>4.000000</td>\n",
       "    </tr>\n",
       "    <tr>\n",
       "      <th>max</th>\n",
       "      <td>100.000000</td>\n",
       "      <td>5.621218e+06</td>\n",
       "      <td>1.000000</td>\n",
       "      <td>0.991000</td>\n",
       "      <td>1.000000</td>\n",
       "      <td>11.000000</td>\n",
       "      <td>5.376000</td>\n",
       "      <td>1.000000</td>\n",
       "      <td>0.971000</td>\n",
       "      <td>0.996000</td>\n",
       "      <td>1.000000</td>\n",
       "      <td>1.000000</td>\n",
       "      <td>1.000000</td>\n",
       "      <td>246.381000</td>\n",
       "      <td>5.000000</td>\n",
       "    </tr>\n",
       "  </tbody>\n",
       "</table>\n",
       "</div>"
      ],
      "text/plain": [
       "          popularity   duration_ms       explicit   danceability  \\\n",
       "count  586601.000000  5.866010e+05  586601.000000  586601.000000   \n",
       "mean       27.573212  2.300549e+05       0.044091       0.563612   \n",
       "std        18.369417  1.265328e+05       0.205298       0.166101   \n",
       "min         0.000000  3.344000e+03       0.000000       0.000000   \n",
       "0%          0.000000  3.344000e+03       0.000000       0.000000   \n",
       "5%          0.000000  9.730700e+04       0.000000       0.267000   \n",
       "10%         2.000000  1.342190e+05       0.000000       0.334000   \n",
       "15%         5.000000  1.522990e+05       0.000000       0.382000   \n",
       "20%         9.000000  1.649200e+05       0.000000       0.420000   \n",
       "25%        13.000000  1.750830e+05       0.000000       0.453000   \n",
       "30%        16.000000  1.836130e+05       0.000000       0.482000   \n",
       "35%        19.000000  1.915330e+05       0.000000       0.508000   \n",
       "40%        22.000000  1.991470e+05       0.000000       0.532000   \n",
       "45%        24.000000  2.069730e+05       0.000000       0.555000   \n",
       "50%        27.000000  2.149070e+05       0.000000       0.577000   \n",
       "55%        30.000000  2.233470e+05       0.000000       0.599000   \n",
       "60%        33.000000  2.321870e+05       0.000000       0.620000   \n",
       "65%        35.000000  2.416130e+05       0.000000       0.641000   \n",
       "70%        38.000000  2.521230e+05       0.000000       0.663000   \n",
       "75%        41.000000  2.638670e+05       0.000000       0.686000   \n",
       "80%        44.000000  2.779430e+05       0.000000       0.709000   \n",
       "85%        48.000000  2.959570e+05       0.000000       0.735000   \n",
       "90%        52.000000  3.236000e+05       0.000000       0.769000   \n",
       "95%        59.000000  3.823600e+05       0.000000       0.815000   \n",
       "max       100.000000  5.621218e+06       1.000000       0.991000   \n",
       "\n",
       "              energy            key       loudness           mode  \\\n",
       "count  586601.000000  586601.000000  586601.000000  586601.000000   \n",
       "mean        0.542071       5.221594     -10.205789       0.658797   \n",
       "std         0.251910       3.519420       5.089422       0.474114   \n",
       "min         0.000000       0.000000     -60.000000       0.000000   \n",
       "0%          0.000000       0.000000     -60.000000       0.000000   \n",
       "5%          0.120000       0.000000     -19.843000       0.000000   \n",
       "10%         0.190000       0.000000     -16.893000       0.000000   \n",
       "15%         0.248000       1.000000     -15.137000       0.000000   \n",
       "20%         0.298000       2.000000     -13.886000       0.000000   \n",
       "25%         0.343000       2.000000     -12.891000       0.000000   \n",
       "30%         0.390000       2.000000     -12.039000       0.000000   \n",
       "35%         0.432000       4.000000     -11.267000       1.000000   \n",
       "40%         0.472000       4.000000     -10.551000       1.000000   \n",
       "45%         0.511000       5.000000      -9.881000       1.000000   \n",
       "50%         0.549000       5.000000      -9.242000       1.000000   \n",
       "55%         0.588000       6.000000      -8.644000       1.000000   \n",
       "60%         0.629000       7.000000      -8.073000       1.000000   \n",
       "65%         0.669000       7.000000      -7.526000       1.000000   \n",
       "70%         0.708000       7.000000      -7.002000       1.000000   \n",
       "75%         0.748000       8.000000      -6.481000       1.000000   \n",
       "80%         0.793000       9.000000      -5.950000       1.000000   \n",
       "85%         0.837000       9.000000      -5.385000       1.000000   \n",
       "90%         0.881000      10.000000      -4.751000       1.000000   \n",
       "95%         0.931000      11.000000      -3.910000       1.000000   \n",
       "max         1.000000      11.000000       5.376000       1.000000   \n",
       "\n",
       "         speechiness   acousticness  instrumentalness       liveness  \\\n",
       "count  586601.000000  586601.000000     586601.000000  586601.000000   \n",
       "mean        0.104870       0.449803          0.113425       0.213933   \n",
       "std         0.179902       0.348812          0.266843       0.184328   \n",
       "min         0.000000       0.000000          0.000000       0.000000   \n",
       "0%          0.000000       0.000000          0.000000       0.000000   \n",
       "5%          0.027600       0.001770          0.000000       0.058900   \n",
       "10%         0.029400       0.010500          0.000000       0.072500   \n",
       "15%         0.030900       0.028700          0.000000       0.082500   \n",
       "20%         0.032400       0.057700          0.000000       0.090900   \n",
       "25%         0.034000       0.096900          0.000000       0.098300   \n",
       "30%         0.035600       0.146000          0.000000       0.105000   \n",
       "35%         0.037400       0.204000          0.000001       0.111000   \n",
       "40%         0.039400       0.271000          0.000003       0.117000   \n",
       "45%         0.041600       0.345000          0.000009       0.127000   \n",
       "50%         0.044300       0.422000          0.000024       0.139000   \n",
       "55%         0.047500       0.501000          0.000071       0.154000   \n",
       "60%         0.051600       0.579000          0.000218       0.175000   \n",
       "65%         0.057200       0.654000          0.000700       0.202000   \n",
       "70%         0.064800       0.722000          0.002430       0.237000   \n",
       "75%         0.076300       0.784000          0.009550       0.278000   \n",
       "80%         0.095200       0.843000          0.043400       0.318000   \n",
       "85%         0.131000       0.899000          0.215000       0.355000   \n",
       "90%         0.212000       0.950000          0.649000       0.428000   \n",
       "95%         0.422000       0.983000          0.874000       0.653000   \n",
       "max         0.971000       0.996000          1.000000       1.000000   \n",
       "\n",
       "             valence          tempo  time_signature  \n",
       "count  586601.000000  586601.000000   586601.000000  \n",
       "mean        0.552306     118.467930        3.873410  \n",
       "std         0.257673      29.762942        0.473112  \n",
       "min         0.000000       0.000000        0.000000  \n",
       "0%          0.000000       0.000000        0.000000  \n",
       "5%          0.121000      75.929000        3.000000  \n",
       "10%         0.188000      81.288000        3.000000  \n",
       "15%         0.244000      86.856000        4.000000  \n",
       "20%         0.299000      91.775000        4.000000  \n",
       "25%         0.346000      95.606000        4.000000  \n",
       "30%         0.389000      99.783000        4.000000  \n",
       "35%         0.435000     104.005000        4.000000  \n",
       "40%         0.481000     108.462000        4.000000  \n",
       "45%         0.524000     112.970000        4.000000  \n",
       "50%         0.564000     117.387000        4.000000  \n",
       "55%         0.605000     121.032000        4.000000  \n",
       "60%         0.647000     125.011000        4.000000  \n",
       "65%         0.687000     128.323000        4.000000  \n",
       "70%         0.727000     132.013000        4.000000  \n",
       "75%         0.769000     136.324000        4.000000  \n",
       "80%         0.811000     141.058000        4.000000  \n",
       "85%         0.854000     148.156000        4.000000  \n",
       "90%         0.899000     160.188000        4.000000  \n",
       "95%         0.946000     174.009000        4.000000  \n",
       "max         1.000000     246.381000        5.000000  "
      ]
     },
     "execution_count": 98,
     "metadata": {},
     "output_type": "execute_result"
    }
   ],
   "source": [
    "descriptivesMin = dfnum.describe(percentiles = list( np.arange(0, 1, 0.05)) )\n",
    "descriptivesMin"
   ]
  },
  {
   "cell_type": "code",
   "execution_count": 99,
   "metadata": {},
   "outputs": [
    {
     "data": {
      "text/plain": [
       "popularity           True\n",
       "duration_ms          True\n",
       "explicit            False\n",
       "danceability         True\n",
       "energy               True\n",
       "key                  True\n",
       "loudness             True\n",
       "mode                 True\n",
       "speechiness          True\n",
       "acousticness         True\n",
       "instrumentalness     True\n",
       "liveness             True\n",
       "valence              True\n",
       "tempo                True\n",
       "time_signature       True\n",
       "dtype: bool"
      ]
     },
     "execution_count": 99,
     "metadata": {},
     "output_type": "execute_result"
    }
   ],
   "source": [
    "# Variables que tienen valores atípicos inferiores\n",
    "descriptivesMin.loc['min'] < ( descriptivesMin.loc['25%'] + (1.5* (descriptivesMax_num.loc['75%']-descriptivesMax_num.loc['25%']) ) ) "
   ]
  },
  {
   "cell_type": "code",
   "execution_count": 100,
   "metadata": {},
   "outputs": [
    {
     "data": {
      "text/plain": [
       "popularity              27.286606\n",
       "duration_ms         222480.926313\n",
       "explicit                 0.022046\n",
       "danceability             0.570306\n",
       "energy                   0.545536\n",
       "key                      5.110797\n",
       "loudness                -7.861500\n",
       "mode                     0.829399\n",
       "speechiness              0.090585\n",
       "acousticness             0.435901\n",
       "instrumentalness         0.061487\n",
       "liveness                 0.199131\n",
       "valence                  0.558153\n",
       "tempo                  117.927465\n",
       "time_signature           4.000000\n",
       "Name: 0.5, dtype: float64"
      ]
     },
     "execution_count": 100,
     "metadata": {},
     "output_type": "execute_result"
    }
   ],
   "source": [
    "dfnum.describe().quantile(0.5)"
   ]
  },
  {
   "cell_type": "code",
   "execution_count": 101,
   "metadata": {},
   "outputs": [
    {
     "data": {
      "text/plain": [
       "Index(['popularity', 'duration_ms', 'explicit', 'danceability', 'energy',\n",
       "       'key', 'loudness', 'mode', 'speechiness', 'acousticness',\n",
       "       'instrumentalness', 'liveness', 'valence', 'tempo', 'time_signature'],\n",
       "      dtype='object')"
      ]
     },
     "execution_count": 101,
     "metadata": {},
     "output_type": "execute_result"
    }
   ],
   "source": [
    "dfnum.columns"
   ]
  },
  {
   "cell_type": "markdown",
   "metadata": {},
   "source": [
    "Variables categóricas (con representacion numérica): \\\n",
    "explicit, key y mode. "
   ]
  },
  {
   "cell_type": "code",
   "execution_count": 16,
   "metadata": {},
   "outputs": [],
   "source": [
    "# Variables con valores atípicos\n",
    "dfnum_outlier = dfnum[['popularity', 'duration_ms', 'danceability', 'energy', 'loudness', 'speechiness', 'acousticness',\n",
    "       'instrumentalness', 'liveness', 'valence', 'tempo', 'time_signature']]"
   ]
  },
  {
   "cell_type": "code",
   "execution_count": 17,
   "metadata": {},
   "outputs": [
    {
     "data": {
      "text/html": [
       "<div>\n",
       "<style scoped>\n",
       "    .dataframe tbody tr th:only-of-type {\n",
       "        vertical-align: middle;\n",
       "    }\n",
       "\n",
       "    .dataframe tbody tr th {\n",
       "        vertical-align: top;\n",
       "    }\n",
       "\n",
       "    .dataframe thead th {\n",
       "        text-align: right;\n",
       "    }\n",
       "</style>\n",
       "<table border=\"1\" class=\"dataframe\">\n",
       "  <thead>\n",
       "    <tr style=\"text-align: right;\">\n",
       "      <th></th>\n",
       "      <th>popularity</th>\n",
       "      <th>duration_ms</th>\n",
       "      <th>danceability</th>\n",
       "      <th>energy</th>\n",
       "      <th>loudness</th>\n",
       "      <th>speechiness</th>\n",
       "      <th>acousticness</th>\n",
       "      <th>instrumentalness</th>\n",
       "      <th>liveness</th>\n",
       "      <th>valence</th>\n",
       "      <th>tempo</th>\n",
       "      <th>time_signature</th>\n",
       "    </tr>\n",
       "  </thead>\n",
       "  <tbody>\n",
       "    <tr>\n",
       "      <th>count</th>\n",
       "      <td>586601.000000</td>\n",
       "      <td>5.866010e+05</td>\n",
       "      <td>586601.000000</td>\n",
       "      <td>586601.000000</td>\n",
       "      <td>586601.000000</td>\n",
       "      <td>586601.000000</td>\n",
       "      <td>586601.000000</td>\n",
       "      <td>586601.000000</td>\n",
       "      <td>586601.000000</td>\n",
       "      <td>586601.000000</td>\n",
       "      <td>586601.000000</td>\n",
       "      <td>586601.000000</td>\n",
       "    </tr>\n",
       "    <tr>\n",
       "      <th>mean</th>\n",
       "      <td>27.573212</td>\n",
       "      <td>2.300549e+05</td>\n",
       "      <td>0.563612</td>\n",
       "      <td>0.542071</td>\n",
       "      <td>-10.205789</td>\n",
       "      <td>0.104870</td>\n",
       "      <td>0.449803</td>\n",
       "      <td>0.113425</td>\n",
       "      <td>0.213933</td>\n",
       "      <td>0.552306</td>\n",
       "      <td>118.467930</td>\n",
       "      <td>3.873410</td>\n",
       "    </tr>\n",
       "    <tr>\n",
       "      <th>std</th>\n",
       "      <td>18.369417</td>\n",
       "      <td>1.265328e+05</td>\n",
       "      <td>0.166101</td>\n",
       "      <td>0.251910</td>\n",
       "      <td>5.089422</td>\n",
       "      <td>0.179902</td>\n",
       "      <td>0.348812</td>\n",
       "      <td>0.266843</td>\n",
       "      <td>0.184328</td>\n",
       "      <td>0.257673</td>\n",
       "      <td>29.762942</td>\n",
       "      <td>0.473112</td>\n",
       "    </tr>\n",
       "    <tr>\n",
       "      <th>min</th>\n",
       "      <td>0.000000</td>\n",
       "      <td>3.344000e+03</td>\n",
       "      <td>0.000000</td>\n",
       "      <td>0.000000</td>\n",
       "      <td>-60.000000</td>\n",
       "      <td>0.000000</td>\n",
       "      <td>0.000000</td>\n",
       "      <td>0.000000</td>\n",
       "      <td>0.000000</td>\n",
       "      <td>0.000000</td>\n",
       "      <td>0.000000</td>\n",
       "      <td>0.000000</td>\n",
       "    </tr>\n",
       "    <tr>\n",
       "      <th>25%</th>\n",
       "      <td>13.000000</td>\n",
       "      <td>1.750830e+05</td>\n",
       "      <td>0.453000</td>\n",
       "      <td>0.343000</td>\n",
       "      <td>-12.891000</td>\n",
       "      <td>0.034000</td>\n",
       "      <td>0.096900</td>\n",
       "      <td>0.000000</td>\n",
       "      <td>0.098300</td>\n",
       "      <td>0.346000</td>\n",
       "      <td>95.606000</td>\n",
       "      <td>4.000000</td>\n",
       "    </tr>\n",
       "    <tr>\n",
       "      <th>50%</th>\n",
       "      <td>27.000000</td>\n",
       "      <td>2.149070e+05</td>\n",
       "      <td>0.577000</td>\n",
       "      <td>0.549000</td>\n",
       "      <td>-9.242000</td>\n",
       "      <td>0.044300</td>\n",
       "      <td>0.422000</td>\n",
       "      <td>0.000024</td>\n",
       "      <td>0.139000</td>\n",
       "      <td>0.564000</td>\n",
       "      <td>117.387000</td>\n",
       "      <td>4.000000</td>\n",
       "    </tr>\n",
       "    <tr>\n",
       "      <th>75%</th>\n",
       "      <td>41.000000</td>\n",
       "      <td>2.638670e+05</td>\n",
       "      <td>0.686000</td>\n",
       "      <td>0.748000</td>\n",
       "      <td>-6.481000</td>\n",
       "      <td>0.076300</td>\n",
       "      <td>0.784000</td>\n",
       "      <td>0.009550</td>\n",
       "      <td>0.278000</td>\n",
       "      <td>0.769000</td>\n",
       "      <td>136.324000</td>\n",
       "      <td>4.000000</td>\n",
       "    </tr>\n",
       "    <tr>\n",
       "      <th>max</th>\n",
       "      <td>100.000000</td>\n",
       "      <td>5.621218e+06</td>\n",
       "      <td>0.991000</td>\n",
       "      <td>1.000000</td>\n",
       "      <td>5.376000</td>\n",
       "      <td>0.971000</td>\n",
       "      <td>0.996000</td>\n",
       "      <td>1.000000</td>\n",
       "      <td>1.000000</td>\n",
       "      <td>1.000000</td>\n",
       "      <td>246.381000</td>\n",
       "      <td>5.000000</td>\n",
       "    </tr>\n",
       "  </tbody>\n",
       "</table>\n",
       "</div>"
      ],
      "text/plain": [
       "          popularity   duration_ms   danceability         energy  \\\n",
       "count  586601.000000  5.866010e+05  586601.000000  586601.000000   \n",
       "mean       27.573212  2.300549e+05       0.563612       0.542071   \n",
       "std        18.369417  1.265328e+05       0.166101       0.251910   \n",
       "min         0.000000  3.344000e+03       0.000000       0.000000   \n",
       "25%        13.000000  1.750830e+05       0.453000       0.343000   \n",
       "50%        27.000000  2.149070e+05       0.577000       0.549000   \n",
       "75%        41.000000  2.638670e+05       0.686000       0.748000   \n",
       "max       100.000000  5.621218e+06       0.991000       1.000000   \n",
       "\n",
       "            loudness    speechiness   acousticness  instrumentalness  \\\n",
       "count  586601.000000  586601.000000  586601.000000     586601.000000   \n",
       "mean      -10.205789       0.104870       0.449803          0.113425   \n",
       "std         5.089422       0.179902       0.348812          0.266843   \n",
       "min       -60.000000       0.000000       0.000000          0.000000   \n",
       "25%       -12.891000       0.034000       0.096900          0.000000   \n",
       "50%        -9.242000       0.044300       0.422000          0.000024   \n",
       "75%        -6.481000       0.076300       0.784000          0.009550   \n",
       "max         5.376000       0.971000       0.996000          1.000000   \n",
       "\n",
       "            liveness        valence          tempo  time_signature  \n",
       "count  586601.000000  586601.000000  586601.000000   586601.000000  \n",
       "mean        0.213933       0.552306     118.467930        3.873410  \n",
       "std         0.184328       0.257673      29.762942        0.473112  \n",
       "min         0.000000       0.000000       0.000000        0.000000  \n",
       "25%         0.098300       0.346000      95.606000        4.000000  \n",
       "50%         0.139000       0.564000     117.387000        4.000000  \n",
       "75%         0.278000       0.769000     136.324000        4.000000  \n",
       "max         1.000000       1.000000     246.381000        5.000000  "
      ]
     },
     "execution_count": 17,
     "metadata": {},
     "output_type": "execute_result"
    }
   ],
   "source": [
    "dfnum_outlier.describe()"
   ]
  },
  {
   "cell_type": "code",
   "execution_count": 104,
   "metadata": {},
   "outputs": [
    {
     "data": {
      "text/plain": [
       "Index(['popularity', 'duration_ms', 'explicit', 'danceability', 'energy',\n",
       "       'key', 'loudness', 'mode', 'speechiness', 'acousticness',\n",
       "       'instrumentalness', 'liveness', 'valence', 'tempo', 'time_signature'],\n",
       "      dtype='object')"
      ]
     },
     "execution_count": 104,
     "metadata": {},
     "output_type": "execute_result"
    }
   ],
   "source": [
    "dfnum.columns"
   ]
  },
  {
   "cell_type": "code",
   "execution_count": 18,
   "metadata": {},
   "outputs": [
    {
     "data": {
      "image/png": "[encoded data removed]",
      "text/plain": [
       "<Figure size 432x288 with 1 Axes>"
      ]
     },
     "metadata": {
      "needs_background": "light"
     },
     "output_type": "display_data"
    },
    {
     "data": {
      "image/png": "[encoded data removed]",
      "text/plain": [
       "<Figure size 432x288 with 1 Axes>"
      ]
     },
     "metadata": {
      "needs_background": "light"
     },
     "output_type": "display_data"
    },
    {
     "data": {
      "image/png": "[encoded data removed]",
      "text/plain": [
       "<Figure size 432x288 with 1 Axes>"
      ]
     },
     "metadata": {
      "needs_background": "light"
     },
     "output_type": "display_data"
    },
    {
     "data": {
      "image/png": "[encoded data removed]",
      "text/plain": [
       "<Figure size 432x288 with 1 Axes>"
      ]
     },
     "metadata": {
      "needs_background": "light"
     },
     "output_type": "display_data"
    },
    {
     "data": {
      "image/png": "[encoded data removed]",
      "text/plain": [
       "<Figure size 432x288 with 1 Axes>"
      ]
     },
     "metadata": {
      "needs_background": "light"
     },
     "output_type": "display_data"
    },
    {
     "data": {
      "image/png": "[encoded data removed]",
      "text/plain": [
       "<Figure size 432x288 with 1 Axes>"
      ]
     },
     "metadata": {
      "needs_background": "light"
     },
     "output_type": "display_data"
    },
    {
     "data": {
      "image/png": "[encoded data removed]",
      "text/plain": [
       "<Figure size 432x288 with 1 Axes>"
      ]
     },
     "metadata": {
      "needs_background": "light"
     },
     "output_type": "display_data"
    },
    {
     "data": {
      "image/png": "[encoded data removed]",
      "text/plain": [
       "<Figure size 432x288 with 1 Axes>"
      ]
     },
     "metadata": {
      "needs_background": "light"
     },
     "output_type": "display_data"
    },
    {
     "data": {
      "image/png": "[encoded data removed]",
      "text/plain": [
       "<Figure size 432x288 with 1 Axes>"
      ]
     },
     "metadata": {
      "needs_background": "light"
     },
     "output_type": "display_data"
    },
    {
     "data": {
      "image/png": "[encoded data removed]",
      "text/plain": [
       "<Figure size 432x288 with 1 Axes>"
      ]
     },
     "metadata": {
      "needs_background": "light"
     },
     "output_type": "display_data"
    },
    {
     "data": {
      "image/png": "[encoded data removed]",
      "text/plain": [
       "<Figure size 432x288 with 1 Axes>"
      ]
     },
     "metadata": {
      "needs_background": "light"
     },
     "output_type": "display_data"
    },
    {
     "data": {
      "image/png": "[encoded data removed]",
      "text/plain": [
       "<Figure size 432x288 with 1 Axes>"
      ]
     },
     "metadata": {
      "needs_background": "light"
     },
     "output_type": "display_data"
    }
   ],
   "source": [
    "columnas = ['popularity', 'duration_ms', 'danceability', 'energy', 'loudness',\n",
    "       'speechiness', 'acousticness', 'instrumentalness', 'liveness',\n",
    "       'valence', 'tempo', 'time_signature']\n",
    "for col in columnas:\n",
    "    dfnum_outlier.boxplot(column = [col])\n",
    "    plt.title(col)\n",
    "    plt.show()\n"
   ]
  },
  {
   "cell_type": "code",
   "execution_count": 19,
   "metadata": {},
   "outputs": [],
   "source": [
    "# Podemos definir una función que haga lo mismo para cualquier columna numérica\n",
    "def loc_outliers(df, columna):\n",
    "  q1 = df[columna].quantile(0.25)\n",
    "  q3 = df[columna].quantile(0.75)\n",
    "  iqr = q3 - q1\n",
    "  ul = q3 + 1.5*iqr\n",
    "  ll = q1 - 1.5*iqr\n",
    "  return (df[columna] > ul) | (df[columna] < ll) "
   ]
  },
  {
   "cell_type": "code",
   "execution_count": 20,
   "metadata": {},
   "outputs": [],
   "source": [
    "# Define una función que encuentre todos los outliers por exceso\n",
    "def loc_outliers_exceso(df, columna):\n",
    "  q1 = df[columna].quantile(0.25)\n",
    "  q3 = df[columna].quantile(0.75)\n",
    "  iqr = q3 - q1\n",
    "  ul = q3 + 1.5*iqr\n",
    "  return (df[columna] > ul)\n",
    "\n",
    "# Define una función que encuentre todos los outliers por defecto\n",
    "def loc_outliers_defecto(df, columna):\n",
    "  q1 = df[columna].quantile(0.25)\n",
    "  q3 = df[columna].quantile(0.75)\n",
    "  iqr = q3 - q1\n",
    "  ll = q1 - 1.5*iqr\n",
    "  return (df[columna] < ll)"
   ]
  },
  {
   "cell_type": "code",
   "execution_count": 21,
   "metadata": {},
   "outputs": [
    {
     "name": "stderr",
     "output_type": "stream",
     "text": [
      "C:\\Users\\HP\\AppData\\Local\\Temp\\ipykernel_16208\\3525050936.py:3: SettingWithCopyWarning: \n",
      "A value is trying to be set on a copy of a slice from a DataFrame.\n",
      "Try using .loc[row_indexer,col_indexer] = value instead\n",
      "\n",
      "See the caveats in the documentation: https://pandas.pydata.org/pandas-docs/stable/user_guide/indexing.html#returning-a-view-versus-a-copy\n",
      "  dfnum_outlier.loc[loc_outliers_exceso(dfnum_outlier, col)] = dfnum_outlier.loc[loc_outliers_exceso(dfnum_outlier, col)==False, col].max()\n"
     ]
    }
   ],
   "source": [
    "# Reemplazamos todos los outliers por exceso de la columna \"antiguedad\" por el máximo valor No outlier\n",
    "for col in columnas:\n",
    "    dfnum_outlier.loc[loc_outliers_exceso(dfnum_outlier, col)] = dfnum_outlier.loc[loc_outliers_exceso(dfnum_outlier, col)==False, col].max()\n",
    "    dfnum_outlier.loc[loc_outliers_defecto(dfnum_outlier, col)] = dfnum_outlier.loc[loc_outliers_defecto(dfnum_outlier, col)==False, col].min()"
   ]
  },
  {
   "cell_type": "code",
   "execution_count": 22,
   "metadata": {},
   "outputs": [
    {
     "data": {
      "image/png": "[encoded data removed]",
      "text/plain": [
       "<Figure size 432x288 with 1 Axes>"
      ]
     },
     "metadata": {
      "needs_background": "light"
     },
     "output_type": "display_data"
    },
    {
     "data": {
      "image/png": "[encoded data removed]",
      "text/plain": [
       "<Figure size 432x288 with 1 Axes>"
      ]
     },
     "metadata": {
      "needs_background": "light"
     },
     "output_type": "display_data"
    },
    {
     "data": {
      "image/png": "[encoded data removed]",
      "text/plain": [
       "<Figure size 432x288 with 1 Axes>"
      ]
     },
     "metadata": {
      "needs_background": "light"
     },
     "output_type": "display_data"
    },
    {
     "data": {
      "image/png": "[encoded data removed]",
      "text/plain": [
       "<Figure size 432x288 with 1 Axes>"
      ]
     },
     "metadata": {
      "needs_background": "light"
     },
     "output_type": "display_data"
    },
    {
     "data": {
      "image/png": "[encoded data removed]",
      "text/plain": [
       "<Figure size 432x288 with 1 Axes>"
      ]
     },
     "metadata": {
      "needs_background": "light"
     },
     "output_type": "display_data"
    },
    {
     "data": {
      "image/png": "[encoded data removed]",
      "text/plain": [
       "<Figure size 432x288 with 1 Axes>"
      ]
     },
     "metadata": {
      "needs_background": "light"
     },
     "output_type": "display_data"
    },
    {
     "data": {
      "image/png": "[encoded data removed]",
      "text/plain": [
       "<Figure size 432x288 with 1 Axes>"
      ]
     },
     "metadata": {
      "needs_background": "light"
     },
     "output_type": "display_data"
    },
    {
     "data": {
      "image/png": "[encoded data removed]",
      "text/plain": [
       "<Figure size 432x288 with 1 Axes>"
      ]
     },
     "metadata": {
      "needs_background": "light"
     },
     "output_type": "display_data"
    },
    {
     "data": {
      "image/png": "[encoded data removed]",
      "text/plain": [
       "<Figure size 432x288 with 1 Axes>"
      ]
     },
     "metadata": {
      "needs_background": "light"
     },
     "output_type": "display_data"
    },
    {
     "data": {
      "image/png": "[encoded data removed]",
      "text/plain": [
       "<Figure size 432x288 with 1 Axes>"
      ]
     },
     "metadata": {
      "needs_background": "light"
     },
     "output_type": "display_data"
    },
    {
     "data": {
      "image/png": "[encoded data removed]",
      "text/plain": [
       "<Figure size 432x288 with 1 Axes>"
      ]
     },
     "metadata": {
      "needs_background": "light"
     },
     "output_type": "display_data"
    },
    {
     "data": {
      "image/png": "[encoded data removed]",
      "text/plain": [
       "<Figure size 432x288 with 1 Axes>"
      ]
     },
     "metadata": {
      "needs_background": "light"
     },
     "output_type": "display_data"
    }
   ],
   "source": [
    "# Volvemos a generar boxplots para verificar imputaciones\n",
    "for col in columnas:\n",
    "    dfnum_outlier.boxplot(column = [col])\n",
    "    plt.title(col)\n",
    "    plt.show()"
   ]
  },
  {
   "cell_type": "code",
   "execution_count": 23,
   "metadata": {},
   "outputs": [
    {
     "data": {
      "image/png": "[encoded data removed]",
      "text/plain": [
       "<Figure size 432x288 with 1 Axes>"
      ]
     },
     "metadata": {
      "needs_background": "light"
     },
     "output_type": "display_data"
    },
    {
     "data": {
      "image/png": "[encoded data removed]",
      "text/plain": [
       "<Figure size 432x288 with 1 Axes>"
      ]
     },
     "metadata": {
      "needs_background": "light"
     },
     "output_type": "display_data"
    },
    {
     "data": {
      "image/png": "[encoded data removed]",
      "text/plain": [
       "<Figure size 432x288 with 1 Axes>"
      ]
     },
     "metadata": {
      "needs_background": "light"
     },
     "output_type": "display_data"
    },
    {
     "data": {
      "image/png": "[encoded data removed]",
      "text/plain": [
       "<Figure size 432x288 with 1 Axes>"
      ]
     },
     "metadata": {
      "needs_background": "light"
     },
     "output_type": "display_data"
    },
    {
     "data": {
      "image/png": "[encoded data removed]",
      "text/plain": [
       "<Figure size 432x288 with 1 Axes>"
      ]
     },
     "metadata": {
      "needs_background": "light"
     },
     "output_type": "display_data"
    },
    {
     "data": {
      "image/png": "[encoded data removed]",
      "text/plain": [
       "<Figure size 432x288 with 1 Axes>"
      ]
     },
     "metadata": {
      "needs_background": "light"
     },
     "output_type": "display_data"
    },
    {
     "data": {
      "image/png": "[encoded data removed]",
      "text/plain": [
       "<Figure size 432x288 with 1 Axes>"
      ]
     },
     "metadata": {
      "needs_background": "light"
     },
     "output_type": "display_data"
    },
    {
     "data": {
      "image/png": "[encoded data removed]",
      "text/plain": [
       "<Figure size 432x288 with 1 Axes>"
      ]
     },
     "metadata": {
      "needs_background": "light"
     },
     "output_type": "display_data"
    },
    {
     "data": {
      "image/png": "[encoded data removed]",
      "text/plain": [
       "<Figure size 432x288 with 1 Axes>"
      ]
     },
     "metadata": {
      "needs_background": "light"
     },
     "output_type": "display_data"
    },
    {
     "data": {
      "image/png": "[encoded data removed]",
      "text/plain": [
       "<Figure size 432x288 with 1 Axes>"
      ]
     },
     "metadata": {
      "needs_background": "light"
     },
     "output_type": "display_data"
    },
    {
     "data": {
      "image/png": "[encoded data removed]",
      "text/plain": [
       "<Figure size 432x288 with 1 Axes>"
      ]
     },
     "metadata": {
      "needs_background": "light"
     },
     "output_type": "display_data"
    },
    {
     "data": {
      "image/png": "[encoded data removed]",
      "text/plain": [
       "<Figure size 432x288 with 1 Axes>"
      ]
     },
     "metadata": {
      "needs_background": "light"
     },
     "output_type": "display_data"
    }
   ],
   "source": [
    "# Graficamos el Q-Q plot de cada variable\n",
    "# ¿Qué variables aparentemente siguen una distribución normal/gaussiana?\n",
    "import pylab \n",
    "import scipy.stats as stats\n",
    "\n",
    "# La funcion select_dtypes genera un data frame formado únicamente por\n",
    "# columnas del tipo indicado como argumento\n",
    "for col in dfnum_outlier.select_dtypes('number').columns:\n",
    "  stats.probplot(dfnum_outlier[col], dist = \"norm\", plot = plt)\n",
    "  plt.title(col)\n",
    "  pylab.show()"
   ]
  }
 ],
 "metadata": {
  "interpreter": {
   "hash": "81794d4967e6c3204c66dcd87b604927b115b27c00565d3d43f05ba2f3a2cb0d"
  },
  "kernelspec": {
   "display_name": "Python 3.9.6 64-bit",
   "language": "python",
   "name": "python3"
  },
  "language_info": {
   "codemirror_mode": {
    "name": "ipython",
    "version": 3
   },
   "file_extension": ".py",
   "mimetype": "text/x-python",
   "name": "python",
   "nbconvert_exporter": "python",
   "pygments_lexer": "ipython3",
   "version": "3.9.6"
  },
  "orig_nbformat": 4
 },
 "nbformat": 4,
 "nbformat_minor": 2
}
