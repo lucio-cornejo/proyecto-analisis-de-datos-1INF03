{
 "cells": [
  {
   "cell_type": "markdown",
   "metadata": {},
   "source": [
    "## Integrantes\n",
    "* Andrea Mejia\n",
    "* Renzo Richle\n",
    "* Lucio Cornejo\n",
    "* Claudia Vivas\n",
    "\n",
    "1. [Paso 2](#paso-2)\n",
    "    - [Adquisición de Datos](#adquisicion-de-datos)\n",
    "2. [Paso 3](#paso-3)\n",
    "    - [Entendimiento de los datos](#entendimiento-de-los-datos)\n",
    "    - [Duplicados](#duplicados)\n",
    "    - [Vacios](#vacios)\n",
    "    - [Medidas de resumen para variables numéricas](#medidas-de-resumen-para-variables-numericas)\n",
    "    - [Medidas de resumen para variables categóricas](#medidas-de-resumen-para-variables-categoricas)\n",
    "    - [Tratamiento de datos atípicos](#tratamiento-de-datos-atipicos)\n",
    "        - [Outliers por exceso](#outliers-por-exceso)\n",
    "        - [Outliers por defecto](#outliers-por-defecto)\n",
    "        - [Separar la base en atipicos y no atipicos](#separar-la-base-en-atipicos-y-no-atipicos)\n",
    "    "
   ]
  },
  {
   "cell_type": "code",
   "execution_count": null,
   "metadata": {},
   "outputs": [],
   "source": [
    "import pandas as pd\n",
    "import matplotlib.pyplot as plt\n",
    "import numpy as np\n",
    "import seaborn as sns"
   ]
  },
  {
   "cell_type": "code",
   "execution_count": null,
   "metadata": {},
   "outputs": [],
   "source": [
    "# Cargamos la base de datos\n",
    "# tracks = pd.read_csv(r'E:\\Documentos\\Github\\proyecto-analisis-de-datos-1INF03\\datos\\tracks.csv')\n",
    "# tracks = pd.read_csv(r'F:\\2022-1\\Analisis de datos\\Tarea Academica\\archive\\tracks.csv')\n",
    "tracks = pd.read_csv(\"../datos/tracks.csv\")"
   ]
  },
  {
   "cell_type": "code",
   "execution_count": null,
   "metadata": {},
   "outputs": [],
   "source": [
    "tracks.head()"
   ]
  },
  {
   "cell_type": "markdown",
   "metadata": {},
   "source": [
    "Notamos que algunas de las columnas nos generan la misma información, pese a su presentación diferente.\n",
    "\n",
    "Por ejemplo, la variable **id_artists** es un identificador único por artista, así que \n",
    "nos proporciona casi completamente la misma información que la variable **artists** (nombre del artista).\n",
    "\n",
    "Análogamente sucede para las variables **id** (identificador de la canción) y **name** (nombre de la canción).\n",
    "\n",
    "Sin embargo, debido a la posibilidad de que existan canciones con el mismo nombre,\n",
    "o artistas con el mismo nombre _musical_, no descartaremos, por ahora, a las columnas **id** e **id_artists**,\n",
    "en caso resulten necesarias más adelante en el análisis."
   ]
  }
 ],
 "metadata": {
  "language_info": {
   "name": "python"
  },
  "orig_nbformat": 4
 },
 "nbformat": 4,
 "nbformat_minor": 2
}
